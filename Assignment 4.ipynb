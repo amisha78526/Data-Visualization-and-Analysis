{
 "cells": [
  {
   "cell_type": "code",
   "execution_count": 0,
   "metadata": {
    "application/vnd.databricks.v1+cell": {
     "cellMetadata": {},
     "inputWidgets": {},
     "nuid": "e40d9f8c-d162-4b8d-97ba-a615e5bc38aa",
     "showTitle": true,
     "title": "Data Location"
    }
   },
   "outputs": [],
   "source": [
    "/FileStore/tables/Iris.csv"
   ]
  },
  {
   "cell_type": "code",
   "execution_count": 0,
   "metadata": {
    "application/vnd.databricks.v1+cell": {
     "cellMetadata": {
      "byteLimit": 2048000,
      "rowLimit": 10000
     },
     "inputWidgets": {},
     "nuid": "56f33d49-fdd3-44f8-a338-77274df733b7",
     "showTitle": true,
     "title": "Importing the Libraries"
    }
   },
   "outputs": [],
   "source": [
    "from pyspark.sql import SparkSession\n",
    "\n",
    "# Initialize Spark session\n",
    "spark = SparkSession.builder \\\n",
    "    .appName(\"Iris Correlation Analysis\") \\\n",
    "    .getOrCreate()"
   ]
  },
  {
   "cell_type": "code",
   "execution_count": 0,
   "metadata": {
    "application/vnd.databricks.v1+cell": {
     "cellMetadata": {
      "byteLimit": 2048000,
      "rowLimit": 10000
     },
     "inputWidgets": {},
     "nuid": "5b89894d-12eb-4c1f-9aca-8a895665ee7e",
     "showTitle": true,
     "title": "Uploading the Iris Dataset"
    }
   },
   "outputs": [
    {
     "output_type": "stream",
     "name": "stdout",
     "output_type": "stream",
     "text": [
      "root\n |-- Id: integer (nullable = true)\n |-- SepalLengthCm: double (nullable = true)\n |-- SepalWidthCm: double (nullable = true)\n |-- PetalLengthCm: double (nullable = true)\n |-- PetalWidthCm: double (nullable = true)\n |-- Species: string (nullable = true)\n\n"
     ]
    },
    {
     "output_type": "display_data",
     "data": {
      "text/html": [
       "<style scoped>\n",
       "  .table-result-container {\n",
       "    max-height: 300px;\n",
       "    overflow: auto;\n",
       "  }\n",
       "  table, th, td {\n",
       "    border: 1px solid black;\n",
       "    border-collapse: collapse;\n",
       "  }\n",
       "  th, td {\n",
       "    padding: 5px;\n",
       "  }\n",
       "  th {\n",
       "    text-align: left;\n",
       "  }\n",
       "</style><div class='table-result-container'><table class='table-result'><thead style='background-color: white'><tr><th>Id</th><th>SepalLengthCm</th><th>SepalWidthCm</th><th>PetalLengthCm</th><th>PetalWidthCm</th><th>Species</th></tr></thead><tbody><tr><td>1</td><td>5.1</td><td>3.5</td><td>1.4</td><td>0.2</td><td>Iris-setosa</td></tr><tr><td>2</td><td>4.9</td><td>3.0</td><td>1.4</td><td>0.2</td><td>Iris-setosa</td></tr><tr><td>3</td><td>4.7</td><td>3.2</td><td>1.3</td><td>0.2</td><td>Iris-setosa</td></tr><tr><td>4</td><td>4.6</td><td>3.1</td><td>1.5</td><td>0.2</td><td>Iris-setosa</td></tr><tr><td>5</td><td>5.0</td><td>3.6</td><td>1.4</td><td>0.2</td><td>Iris-setosa</td></tr><tr><td>6</td><td>5.4</td><td>3.9</td><td>1.7</td><td>0.4</td><td>Iris-setosa</td></tr><tr><td>7</td><td>4.6</td><td>3.4</td><td>1.4</td><td>0.3</td><td>Iris-setosa</td></tr><tr><td>8</td><td>5.0</td><td>3.4</td><td>1.5</td><td>0.2</td><td>Iris-setosa</td></tr><tr><td>9</td><td>4.4</td><td>2.9</td><td>1.4</td><td>0.2</td><td>Iris-setosa</td></tr><tr><td>10</td><td>4.9</td><td>3.1</td><td>1.5</td><td>0.1</td><td>Iris-setosa</td></tr><tr><td>11</td><td>5.4</td><td>3.7</td><td>1.5</td><td>0.2</td><td>Iris-setosa</td></tr><tr><td>12</td><td>4.8</td><td>3.4</td><td>1.6</td><td>0.2</td><td>Iris-setosa</td></tr><tr><td>13</td><td>4.8</td><td>3.0</td><td>1.4</td><td>0.1</td><td>Iris-setosa</td></tr><tr><td>14</td><td>4.3</td><td>3.0</td><td>1.1</td><td>0.1</td><td>Iris-setosa</td></tr><tr><td>15</td><td>5.8</td><td>4.0</td><td>1.2</td><td>0.2</td><td>Iris-setosa</td></tr><tr><td>16</td><td>5.7</td><td>4.4</td><td>1.5</td><td>0.4</td><td>Iris-setosa</td></tr><tr><td>17</td><td>5.4</td><td>3.9</td><td>1.3</td><td>0.4</td><td>Iris-setosa</td></tr><tr><td>18</td><td>5.1</td><td>3.5</td><td>1.4</td><td>0.3</td><td>Iris-setosa</td></tr><tr><td>19</td><td>5.7</td><td>3.8</td><td>1.7</td><td>0.3</td><td>Iris-setosa</td></tr><tr><td>20</td><td>5.1</td><td>3.8</td><td>1.5</td><td>0.3</td><td>Iris-setosa</td></tr><tr><td>21</td><td>5.4</td><td>3.4</td><td>1.7</td><td>0.2</td><td>Iris-setosa</td></tr><tr><td>22</td><td>5.1</td><td>3.7</td><td>1.5</td><td>0.4</td><td>Iris-setosa</td></tr><tr><td>23</td><td>4.6</td><td>3.6</td><td>1.0</td><td>0.2</td><td>Iris-setosa</td></tr><tr><td>24</td><td>5.1</td><td>3.3</td><td>1.7</td><td>0.5</td><td>Iris-setosa</td></tr><tr><td>25</td><td>4.8</td><td>3.4</td><td>1.9</td><td>0.2</td><td>Iris-setosa</td></tr><tr><td>26</td><td>5.0</td><td>3.0</td><td>1.6</td><td>0.2</td><td>Iris-setosa</td></tr><tr><td>27</td><td>5.0</td><td>3.4</td><td>1.6</td><td>0.4</td><td>Iris-setosa</td></tr><tr><td>28</td><td>5.2</td><td>3.5</td><td>1.5</td><td>0.2</td><td>Iris-setosa</td></tr><tr><td>29</td><td>5.2</td><td>3.4</td><td>1.4</td><td>0.2</td><td>Iris-setosa</td></tr><tr><td>30</td><td>4.7</td><td>3.2</td><td>1.6</td><td>0.2</td><td>Iris-setosa</td></tr><tr><td>31</td><td>4.8</td><td>3.1</td><td>1.6</td><td>0.2</td><td>Iris-setosa</td></tr><tr><td>32</td><td>5.4</td><td>3.4</td><td>1.5</td><td>0.4</td><td>Iris-setosa</td></tr><tr><td>33</td><td>5.2</td><td>4.1</td><td>1.5</td><td>0.1</td><td>Iris-setosa</td></tr><tr><td>34</td><td>5.5</td><td>4.2</td><td>1.4</td><td>0.2</td><td>Iris-setosa</td></tr><tr><td>35</td><td>4.9</td><td>3.1</td><td>1.5</td><td>0.1</td><td>Iris-setosa</td></tr><tr><td>36</td><td>5.0</td><td>3.2</td><td>1.2</td><td>0.2</td><td>Iris-setosa</td></tr><tr><td>37</td><td>5.5</td><td>3.5</td><td>1.3</td><td>0.2</td><td>Iris-setosa</td></tr><tr><td>38</td><td>4.9</td><td>3.1</td><td>1.5</td><td>0.1</td><td>Iris-setosa</td></tr><tr><td>39</td><td>4.4</td><td>3.0</td><td>1.3</td><td>0.2</td><td>Iris-setosa</td></tr><tr><td>40</td><td>5.1</td><td>3.4</td><td>1.5</td><td>0.2</td><td>Iris-setosa</td></tr><tr><td>41</td><td>5.0</td><td>3.5</td><td>1.3</td><td>0.3</td><td>Iris-setosa</td></tr><tr><td>42</td><td>4.5</td><td>2.3</td><td>1.3</td><td>0.3</td><td>Iris-setosa</td></tr><tr><td>43</td><td>4.4</td><td>3.2</td><td>1.3</td><td>0.2</td><td>Iris-setosa</td></tr><tr><td>44</td><td>5.0</td><td>3.5</td><td>1.6</td><td>0.6</td><td>Iris-setosa</td></tr><tr><td>45</td><td>5.1</td><td>3.8</td><td>1.9</td><td>0.4</td><td>Iris-setosa</td></tr><tr><td>46</td><td>4.8</td><td>3.0</td><td>1.4</td><td>0.3</td><td>Iris-setosa</td></tr><tr><td>47</td><td>5.1</td><td>3.8</td><td>1.6</td><td>0.2</td><td>Iris-setosa</td></tr><tr><td>48</td><td>4.6</td><td>3.2</td><td>1.4</td><td>0.2</td><td>Iris-setosa</td></tr><tr><td>49</td><td>5.3</td><td>3.7</td><td>1.5</td><td>0.2</td><td>Iris-setosa</td></tr><tr><td>50</td><td>5.0</td><td>3.3</td><td>1.4</td><td>0.2</td><td>Iris-setosa</td></tr><tr><td>51</td><td>7.0</td><td>3.2</td><td>4.7</td><td>1.4</td><td>Iris-versicolor</td></tr><tr><td>52</td><td>6.4</td><td>3.2</td><td>4.5</td><td>1.5</td><td>Iris-versicolor</td></tr><tr><td>53</td><td>6.9</td><td>3.1</td><td>4.9</td><td>1.5</td><td>Iris-versicolor</td></tr><tr><td>54</td><td>5.5</td><td>2.3</td><td>4.0</td><td>1.3</td><td>Iris-versicolor</td></tr><tr><td>55</td><td>6.5</td><td>2.8</td><td>4.6</td><td>1.5</td><td>Iris-versicolor</td></tr><tr><td>56</td><td>5.7</td><td>2.8</td><td>4.5</td><td>1.3</td><td>Iris-versicolor</td></tr><tr><td>57</td><td>6.3</td><td>3.3</td><td>4.7</td><td>1.6</td><td>Iris-versicolor</td></tr><tr><td>58</td><td>4.9</td><td>2.4</td><td>3.3</td><td>1.0</td><td>Iris-versicolor</td></tr><tr><td>59</td><td>6.6</td><td>2.9</td><td>4.6</td><td>1.3</td><td>Iris-versicolor</td></tr><tr><td>60</td><td>5.2</td><td>2.7</td><td>3.9</td><td>1.4</td><td>Iris-versicolor</td></tr><tr><td>61</td><td>5.0</td><td>2.0</td><td>3.5</td><td>1.0</td><td>Iris-versicolor</td></tr><tr><td>62</td><td>5.9</td><td>3.0</td><td>4.2</td><td>1.5</td><td>Iris-versicolor</td></tr><tr><td>63</td><td>6.0</td><td>2.2</td><td>4.0</td><td>1.0</td><td>Iris-versicolor</td></tr><tr><td>64</td><td>6.1</td><td>2.9</td><td>4.7</td><td>1.4</td><td>Iris-versicolor</td></tr><tr><td>65</td><td>5.6</td><td>2.9</td><td>3.6</td><td>1.3</td><td>Iris-versicolor</td></tr><tr><td>66</td><td>6.7</td><td>3.1</td><td>4.4</td><td>1.4</td><td>Iris-versicolor</td></tr><tr><td>67</td><td>5.6</td><td>3.0</td><td>4.5</td><td>1.5</td><td>Iris-versicolor</td></tr><tr><td>68</td><td>5.8</td><td>2.7</td><td>4.1</td><td>1.0</td><td>Iris-versicolor</td></tr><tr><td>69</td><td>6.2</td><td>2.2</td><td>4.5</td><td>1.5</td><td>Iris-versicolor</td></tr><tr><td>70</td><td>5.6</td><td>2.5</td><td>3.9</td><td>1.1</td><td>Iris-versicolor</td></tr><tr><td>71</td><td>5.9</td><td>3.2</td><td>4.8</td><td>1.8</td><td>Iris-versicolor</td></tr><tr><td>72</td><td>6.1</td><td>2.8</td><td>4.0</td><td>1.3</td><td>Iris-versicolor</td></tr><tr><td>73</td><td>6.3</td><td>2.5</td><td>4.9</td><td>1.5</td><td>Iris-versicolor</td></tr><tr><td>74</td><td>6.1</td><td>2.8</td><td>4.7</td><td>1.2</td><td>Iris-versicolor</td></tr><tr><td>75</td><td>6.4</td><td>2.9</td><td>4.3</td><td>1.3</td><td>Iris-versicolor</td></tr><tr><td>76</td><td>6.6</td><td>3.0</td><td>4.4</td><td>1.4</td><td>Iris-versicolor</td></tr><tr><td>77</td><td>6.8</td><td>2.8</td><td>4.8</td><td>1.4</td><td>Iris-versicolor</td></tr><tr><td>78</td><td>6.7</td><td>3.0</td><td>5.0</td><td>1.7</td><td>Iris-versicolor</td></tr><tr><td>79</td><td>6.0</td><td>2.9</td><td>4.5</td><td>1.5</td><td>Iris-versicolor</td></tr><tr><td>80</td><td>5.7</td><td>2.6</td><td>3.5</td><td>1.0</td><td>Iris-versicolor</td></tr><tr><td>81</td><td>5.5</td><td>2.4</td><td>3.8</td><td>1.1</td><td>Iris-versicolor</td></tr><tr><td>82</td><td>5.5</td><td>2.4</td><td>3.7</td><td>1.0</td><td>Iris-versicolor</td></tr><tr><td>83</td><td>5.8</td><td>2.7</td><td>3.9</td><td>1.2</td><td>Iris-versicolor</td></tr><tr><td>84</td><td>6.0</td><td>2.7</td><td>5.1</td><td>1.6</td><td>Iris-versicolor</td></tr><tr><td>85</td><td>5.4</td><td>3.0</td><td>4.5</td><td>1.5</td><td>Iris-versicolor</td></tr><tr><td>86</td><td>6.0</td><td>3.4</td><td>4.5</td><td>1.6</td><td>Iris-versicolor</td></tr><tr><td>87</td><td>6.7</td><td>3.1</td><td>4.7</td><td>1.5</td><td>Iris-versicolor</td></tr><tr><td>88</td><td>6.3</td><td>2.3</td><td>4.4</td><td>1.3</td><td>Iris-versicolor</td></tr><tr><td>89</td><td>5.6</td><td>3.0</td><td>4.1</td><td>1.3</td><td>Iris-versicolor</td></tr><tr><td>90</td><td>5.5</td><td>2.5</td><td>4.0</td><td>1.3</td><td>Iris-versicolor</td></tr><tr><td>91</td><td>5.5</td><td>2.6</td><td>4.4</td><td>1.2</td><td>Iris-versicolor</td></tr><tr><td>92</td><td>6.1</td><td>3.0</td><td>4.6</td><td>1.4</td><td>Iris-versicolor</td></tr><tr><td>93</td><td>5.8</td><td>2.6</td><td>4.0</td><td>1.2</td><td>Iris-versicolor</td></tr><tr><td>94</td><td>5.0</td><td>2.3</td><td>3.3</td><td>1.0</td><td>Iris-versicolor</td></tr><tr><td>95</td><td>5.6</td><td>2.7</td><td>4.2</td><td>1.3</td><td>Iris-versicolor</td></tr><tr><td>96</td><td>5.7</td><td>3.0</td><td>4.2</td><td>1.2</td><td>Iris-versicolor</td></tr><tr><td>97</td><td>5.7</td><td>2.9</td><td>4.2</td><td>1.3</td><td>Iris-versicolor</td></tr><tr><td>98</td><td>6.2</td><td>2.9</td><td>4.3</td><td>1.3</td><td>Iris-versicolor</td></tr><tr><td>99</td><td>5.1</td><td>2.5</td><td>3.0</td><td>1.1</td><td>Iris-versicolor</td></tr><tr><td>100</td><td>5.7</td><td>2.8</td><td>4.1</td><td>1.3</td><td>Iris-versicolor</td></tr><tr><td>101</td><td>6.3</td><td>3.3</td><td>6.0</td><td>2.5</td><td>Iris-virginica</td></tr><tr><td>102</td><td>5.8</td><td>2.7</td><td>5.1</td><td>1.9</td><td>Iris-virginica</td></tr><tr><td>103</td><td>7.1</td><td>3.0</td><td>5.9</td><td>2.1</td><td>Iris-virginica</td></tr><tr><td>104</td><td>6.3</td><td>2.9</td><td>5.6</td><td>1.8</td><td>Iris-virginica</td></tr><tr><td>105</td><td>6.5</td><td>3.0</td><td>5.8</td><td>2.2</td><td>Iris-virginica</td></tr><tr><td>106</td><td>7.6</td><td>3.0</td><td>6.6</td><td>2.1</td><td>Iris-virginica</td></tr><tr><td>107</td><td>4.9</td><td>2.5</td><td>4.5</td><td>1.7</td><td>Iris-virginica</td></tr><tr><td>108</td><td>7.3</td><td>2.9</td><td>6.3</td><td>1.8</td><td>Iris-virginica</td></tr><tr><td>109</td><td>6.7</td><td>2.5</td><td>5.8</td><td>1.8</td><td>Iris-virginica</td></tr><tr><td>110</td><td>7.2</td><td>3.6</td><td>6.1</td><td>2.5</td><td>Iris-virginica</td></tr><tr><td>111</td><td>6.5</td><td>3.2</td><td>5.1</td><td>2.0</td><td>Iris-virginica</td></tr><tr><td>112</td><td>6.4</td><td>2.7</td><td>5.3</td><td>1.9</td><td>Iris-virginica</td></tr><tr><td>113</td><td>6.8</td><td>3.0</td><td>5.5</td><td>2.1</td><td>Iris-virginica</td></tr><tr><td>114</td><td>5.7</td><td>2.5</td><td>5.0</td><td>2.0</td><td>Iris-virginica</td></tr><tr><td>115</td><td>5.8</td><td>2.8</td><td>5.1</td><td>2.4</td><td>Iris-virginica</td></tr><tr><td>116</td><td>6.4</td><td>3.2</td><td>5.3</td><td>2.3</td><td>Iris-virginica</td></tr><tr><td>117</td><td>6.5</td><td>3.0</td><td>5.5</td><td>1.8</td><td>Iris-virginica</td></tr><tr><td>118</td><td>7.7</td><td>3.8</td><td>6.7</td><td>2.2</td><td>Iris-virginica</td></tr><tr><td>119</td><td>7.7</td><td>2.6</td><td>6.9</td><td>2.3</td><td>Iris-virginica</td></tr><tr><td>120</td><td>6.0</td><td>2.2</td><td>5.0</td><td>1.5</td><td>Iris-virginica</td></tr><tr><td>121</td><td>6.9</td><td>3.2</td><td>5.7</td><td>2.3</td><td>Iris-virginica</td></tr><tr><td>122</td><td>5.6</td><td>2.8</td><td>4.9</td><td>2.0</td><td>Iris-virginica</td></tr><tr><td>123</td><td>7.7</td><td>2.8</td><td>6.7</td><td>2.0</td><td>Iris-virginica</td></tr><tr><td>124</td><td>6.3</td><td>2.7</td><td>4.9</td><td>1.8</td><td>Iris-virginica</td></tr><tr><td>125</td><td>6.7</td><td>3.3</td><td>5.7</td><td>2.1</td><td>Iris-virginica</td></tr><tr><td>126</td><td>7.2</td><td>3.2</td><td>6.0</td><td>1.8</td><td>Iris-virginica</td></tr><tr><td>127</td><td>6.2</td><td>2.8</td><td>4.8</td><td>1.8</td><td>Iris-virginica</td></tr><tr><td>128</td><td>6.1</td><td>3.0</td><td>4.9</td><td>1.8</td><td>Iris-virginica</td></tr><tr><td>129</td><td>6.4</td><td>2.8</td><td>5.6</td><td>2.1</td><td>Iris-virginica</td></tr><tr><td>130</td><td>7.2</td><td>3.0</td><td>5.8</td><td>1.6</td><td>Iris-virginica</td></tr><tr><td>131</td><td>7.4</td><td>2.8</td><td>6.1</td><td>1.9</td><td>Iris-virginica</td></tr><tr><td>132</td><td>7.9</td><td>3.8</td><td>6.4</td><td>2.0</td><td>Iris-virginica</td></tr><tr><td>133</td><td>6.4</td><td>2.8</td><td>5.6</td><td>2.2</td><td>Iris-virginica</td></tr><tr><td>134</td><td>6.3</td><td>2.8</td><td>5.1</td><td>1.5</td><td>Iris-virginica</td></tr><tr><td>135</td><td>6.1</td><td>2.6</td><td>5.6</td><td>1.4</td><td>Iris-virginica</td></tr><tr><td>136</td><td>7.7</td><td>3.0</td><td>6.1</td><td>2.3</td><td>Iris-virginica</td></tr><tr><td>137</td><td>6.3</td><td>3.4</td><td>5.6</td><td>2.4</td><td>Iris-virginica</td></tr><tr><td>138</td><td>6.4</td><td>3.1</td><td>5.5</td><td>1.8</td><td>Iris-virginica</td></tr><tr><td>139</td><td>6.0</td><td>3.0</td><td>4.8</td><td>1.8</td><td>Iris-virginica</td></tr><tr><td>140</td><td>6.9</td><td>3.1</td><td>5.4</td><td>2.1</td><td>Iris-virginica</td></tr><tr><td>141</td><td>6.7</td><td>3.1</td><td>5.6</td><td>2.4</td><td>Iris-virginica</td></tr><tr><td>142</td><td>6.9</td><td>3.1</td><td>5.1</td><td>2.3</td><td>Iris-virginica</td></tr><tr><td>143</td><td>5.8</td><td>2.7</td><td>5.1</td><td>1.9</td><td>Iris-virginica</td></tr><tr><td>144</td><td>6.8</td><td>3.2</td><td>5.9</td><td>2.3</td><td>Iris-virginica</td></tr><tr><td>145</td><td>6.7</td><td>3.3</td><td>5.7</td><td>2.5</td><td>Iris-virginica</td></tr><tr><td>146</td><td>6.7</td><td>3.0</td><td>5.2</td><td>2.3</td><td>Iris-virginica</td></tr><tr><td>147</td><td>6.3</td><td>2.5</td><td>5.0</td><td>1.9</td><td>Iris-virginica</td></tr><tr><td>148</td><td>6.5</td><td>3.0</td><td>5.2</td><td>2.0</td><td>Iris-virginica</td></tr><tr><td>149</td><td>6.2</td><td>3.4</td><td>5.4</td><td>2.3</td><td>Iris-virginica</td></tr><tr><td>150</td><td>5.9</td><td>3.0</td><td>5.1</td><td>1.8</td><td>Iris-virginica</td></tr></tbody></table></div>"
      ]
     },
     "metadata": {
      "application/vnd.databricks.v1+output": {
       "addedWidgets": {},
       "aggData": [],
       "aggError": "",
       "aggOverflow": false,
       "aggSchema": [],
       "aggSeriesLimitReached": false,
       "aggType": "",
       "arguments": {},
       "columnCustomDisplayInfos": {},
       "data": [
        [
         1,
         5.1,
         3.5,
         1.4,
         0.2,
         "Iris-setosa"
        ],
        [
         2,
         4.9,
         3.0,
         1.4,
         0.2,
         "Iris-setosa"
        ],
        [
         3,
         4.7,
         3.2,
         1.3,
         0.2,
         "Iris-setosa"
        ],
        [
         4,
         4.6,
         3.1,
         1.5,
         0.2,
         "Iris-setosa"
        ],
        [
         5,
         5.0,
         3.6,
         1.4,
         0.2,
         "Iris-setosa"
        ],
        [
         6,
         5.4,
         3.9,
         1.7,
         0.4,
         "Iris-setosa"
        ],
        [
         7,
         4.6,
         3.4,
         1.4,
         0.3,
         "Iris-setosa"
        ],
        [
         8,
         5.0,
         3.4,
         1.5,
         0.2,
         "Iris-setosa"
        ],
        [
         9,
         4.4,
         2.9,
         1.4,
         0.2,
         "Iris-setosa"
        ],
        [
         10,
         4.9,
         3.1,
         1.5,
         0.1,
         "Iris-setosa"
        ],
        [
         11,
         5.4,
         3.7,
         1.5,
         0.2,
         "Iris-setosa"
        ],
        [
         12,
         4.8,
         3.4,
         1.6,
         0.2,
         "Iris-setosa"
        ],
        [
         13,
         4.8,
         3.0,
         1.4,
         0.1,
         "Iris-setosa"
        ],
        [
         14,
         4.3,
         3.0,
         1.1,
         0.1,
         "Iris-setosa"
        ],
        [
         15,
         5.8,
         4.0,
         1.2,
         0.2,
         "Iris-setosa"
        ],
        [
         16,
         5.7,
         4.4,
         1.5,
         0.4,
         "Iris-setosa"
        ],
        [
         17,
         5.4,
         3.9,
         1.3,
         0.4,
         "Iris-setosa"
        ],
        [
         18,
         5.1,
         3.5,
         1.4,
         0.3,
         "Iris-setosa"
        ],
        [
         19,
         5.7,
         3.8,
         1.7,
         0.3,
         "Iris-setosa"
        ],
        [
         20,
         5.1,
         3.8,
         1.5,
         0.3,
         "Iris-setosa"
        ],
        [
         21,
         5.4,
         3.4,
         1.7,
         0.2,
         "Iris-setosa"
        ],
        [
         22,
         5.1,
         3.7,
         1.5,
         0.4,
         "Iris-setosa"
        ],
        [
         23,
         4.6,
         3.6,
         1.0,
         0.2,
         "Iris-setosa"
        ],
        [
         24,
         5.1,
         3.3,
         1.7,
         0.5,
         "Iris-setosa"
        ],
        [
         25,
         4.8,
         3.4,
         1.9,
         0.2,
         "Iris-setosa"
        ],
        [
         26,
         5.0,
         3.0,
         1.6,
         0.2,
         "Iris-setosa"
        ],
        [
         27,
         5.0,
         3.4,
         1.6,
         0.4,
         "Iris-setosa"
        ],
        [
         28,
         5.2,
         3.5,
         1.5,
         0.2,
         "Iris-setosa"
        ],
        [
         29,
         5.2,
         3.4,
         1.4,
         0.2,
         "Iris-setosa"
        ],
        [
         30,
         4.7,
         3.2,
         1.6,
         0.2,
         "Iris-setosa"
        ],
        [
         31,
         4.8,
         3.1,
         1.6,
         0.2,
         "Iris-setosa"
        ],
        [
         32,
         5.4,
         3.4,
         1.5,
         0.4,
         "Iris-setosa"
        ],
        [
         33,
         5.2,
         4.1,
         1.5,
         0.1,
         "Iris-setosa"
        ],
        [
         34,
         5.5,
         4.2,
         1.4,
         0.2,
         "Iris-setosa"
        ],
        [
         35,
         4.9,
         3.1,
         1.5,
         0.1,
         "Iris-setosa"
        ],
        [
         36,
         5.0,
         3.2,
         1.2,
         0.2,
         "Iris-setosa"
        ],
        [
         37,
         5.5,
         3.5,
         1.3,
         0.2,
         "Iris-setosa"
        ],
        [
         38,
         4.9,
         3.1,
         1.5,
         0.1,
         "Iris-setosa"
        ],
        [
         39,
         4.4,
         3.0,
         1.3,
         0.2,
         "Iris-setosa"
        ],
        [
         40,
         5.1,
         3.4,
         1.5,
         0.2,
         "Iris-setosa"
        ],
        [
         41,
         5.0,
         3.5,
         1.3,
         0.3,
         "Iris-setosa"
        ],
        [
         42,
         4.5,
         2.3,
         1.3,
         0.3,
         "Iris-setosa"
        ],
        [
         43,
         4.4,
         3.2,
         1.3,
         0.2,
         "Iris-setosa"
        ],
        [
         44,
         5.0,
         3.5,
         1.6,
         0.6,
         "Iris-setosa"
        ],
        [
         45,
         5.1,
         3.8,
         1.9,
         0.4,
         "Iris-setosa"
        ],
        [
         46,
         4.8,
         3.0,
         1.4,
         0.3,
         "Iris-setosa"
        ],
        [
         47,
         5.1,
         3.8,
         1.6,
         0.2,
         "Iris-setosa"
        ],
        [
         48,
         4.6,
         3.2,
         1.4,
         0.2,
         "Iris-setosa"
        ],
        [
         49,
         5.3,
         3.7,
         1.5,
         0.2,
         "Iris-setosa"
        ],
        [
         50,
         5.0,
         3.3,
         1.4,
         0.2,
         "Iris-setosa"
        ],
        [
         51,
         7.0,
         3.2,
         4.7,
         1.4,
         "Iris-versicolor"
        ],
        [
         52,
         6.4,
         3.2,
         4.5,
         1.5,
         "Iris-versicolor"
        ],
        [
         53,
         6.9,
         3.1,
         4.9,
         1.5,
         "Iris-versicolor"
        ],
        [
         54,
         5.5,
         2.3,
         4.0,
         1.3,
         "Iris-versicolor"
        ],
        [
         55,
         6.5,
         2.8,
         4.6,
         1.5,
         "Iris-versicolor"
        ],
        [
         56,
         5.7,
         2.8,
         4.5,
         1.3,
         "Iris-versicolor"
        ],
        [
         57,
         6.3,
         3.3,
         4.7,
         1.6,
         "Iris-versicolor"
        ],
        [
         58,
         4.9,
         2.4,
         3.3,
         1.0,
         "Iris-versicolor"
        ],
        [
         59,
         6.6,
         2.9,
         4.6,
         1.3,
         "Iris-versicolor"
        ],
        [
         60,
         5.2,
         2.7,
         3.9,
         1.4,
         "Iris-versicolor"
        ],
        [
         61,
         5.0,
         2.0,
         3.5,
         1.0,
         "Iris-versicolor"
        ],
        [
         62,
         5.9,
         3.0,
         4.2,
         1.5,
         "Iris-versicolor"
        ],
        [
         63,
         6.0,
         2.2,
         4.0,
         1.0,
         "Iris-versicolor"
        ],
        [
         64,
         6.1,
         2.9,
         4.7,
         1.4,
         "Iris-versicolor"
        ],
        [
         65,
         5.6,
         2.9,
         3.6,
         1.3,
         "Iris-versicolor"
        ],
        [
         66,
         6.7,
         3.1,
         4.4,
         1.4,
         "Iris-versicolor"
        ],
        [
         67,
         5.6,
         3.0,
         4.5,
         1.5,
         "Iris-versicolor"
        ],
        [
         68,
         5.8,
         2.7,
         4.1,
         1.0,
         "Iris-versicolor"
        ],
        [
         69,
         6.2,
         2.2,
         4.5,
         1.5,
         "Iris-versicolor"
        ],
        [
         70,
         5.6,
         2.5,
         3.9,
         1.1,
         "Iris-versicolor"
        ],
        [
         71,
         5.9,
         3.2,
         4.8,
         1.8,
         "Iris-versicolor"
        ],
        [
         72,
         6.1,
         2.8,
         4.0,
         1.3,
         "Iris-versicolor"
        ],
        [
         73,
         6.3,
         2.5,
         4.9,
         1.5,
         "Iris-versicolor"
        ],
        [
         74,
         6.1,
         2.8,
         4.7,
         1.2,
         "Iris-versicolor"
        ],
        [
         75,
         6.4,
         2.9,
         4.3,
         1.3,
         "Iris-versicolor"
        ],
        [
         76,
         6.6,
         3.0,
         4.4,
         1.4,
         "Iris-versicolor"
        ],
        [
         77,
         6.8,
         2.8,
         4.8,
         1.4,
         "Iris-versicolor"
        ],
        [
         78,
         6.7,
         3.0,
         5.0,
         1.7,
         "Iris-versicolor"
        ],
        [
         79,
         6.0,
         2.9,
         4.5,
         1.5,
         "Iris-versicolor"
        ],
        [
         80,
         5.7,
         2.6,
         3.5,
         1.0,
         "Iris-versicolor"
        ],
        [
         81,
         5.5,
         2.4,
         3.8,
         1.1,
         "Iris-versicolor"
        ],
        [
         82,
         5.5,
         2.4,
         3.7,
         1.0,
         "Iris-versicolor"
        ],
        [
         83,
         5.8,
         2.7,
         3.9,
         1.2,
         "Iris-versicolor"
        ],
        [
         84,
         6.0,
         2.7,
         5.1,
         1.6,
         "Iris-versicolor"
        ],
        [
         85,
         5.4,
         3.0,
         4.5,
         1.5,
         "Iris-versicolor"
        ],
        [
         86,
         6.0,
         3.4,
         4.5,
         1.6,
         "Iris-versicolor"
        ],
        [
         87,
         6.7,
         3.1,
         4.7,
         1.5,
         "Iris-versicolor"
        ],
        [
         88,
         6.3,
         2.3,
         4.4,
         1.3,
         "Iris-versicolor"
        ],
        [
         89,
         5.6,
         3.0,
         4.1,
         1.3,
         "Iris-versicolor"
        ],
        [
         90,
         5.5,
         2.5,
         4.0,
         1.3,
         "Iris-versicolor"
        ],
        [
         91,
         5.5,
         2.6,
         4.4,
         1.2,
         "Iris-versicolor"
        ],
        [
         92,
         6.1,
         3.0,
         4.6,
         1.4,
         "Iris-versicolor"
        ],
        [
         93,
         5.8,
         2.6,
         4.0,
         1.2,
         "Iris-versicolor"
        ],
        [
         94,
         5.0,
         2.3,
         3.3,
         1.0,
         "Iris-versicolor"
        ],
        [
         95,
         5.6,
         2.7,
         4.2,
         1.3,
         "Iris-versicolor"
        ],
        [
         96,
         5.7,
         3.0,
         4.2,
         1.2,
         "Iris-versicolor"
        ],
        [
         97,
         5.7,
         2.9,
         4.2,
         1.3,
         "Iris-versicolor"
        ],
        [
         98,
         6.2,
         2.9,
         4.3,
         1.3,
         "Iris-versicolor"
        ],
        [
         99,
         5.1,
         2.5,
         3.0,
         1.1,
         "Iris-versicolor"
        ],
        [
         100,
         5.7,
         2.8,
         4.1,
         1.3,
         "Iris-versicolor"
        ],
        [
         101,
         6.3,
         3.3,
         6.0,
         2.5,
         "Iris-virginica"
        ],
        [
         102,
         5.8,
         2.7,
         5.1,
         1.9,
         "Iris-virginica"
        ],
        [
         103,
         7.1,
         3.0,
         5.9,
         2.1,
         "Iris-virginica"
        ],
        [
         104,
         6.3,
         2.9,
         5.6,
         1.8,
         "Iris-virginica"
        ],
        [
         105,
         6.5,
         3.0,
         5.8,
         2.2,
         "Iris-virginica"
        ],
        [
         106,
         7.6,
         3.0,
         6.6,
         2.1,
         "Iris-virginica"
        ],
        [
         107,
         4.9,
         2.5,
         4.5,
         1.7,
         "Iris-virginica"
        ],
        [
         108,
         7.3,
         2.9,
         6.3,
         1.8,
         "Iris-virginica"
        ],
        [
         109,
         6.7,
         2.5,
         5.8,
         1.8,
         "Iris-virginica"
        ],
        [
         110,
         7.2,
         3.6,
         6.1,
         2.5,
         "Iris-virginica"
        ],
        [
         111,
         6.5,
         3.2,
         5.1,
         2.0,
         "Iris-virginica"
        ],
        [
         112,
         6.4,
         2.7,
         5.3,
         1.9,
         "Iris-virginica"
        ],
        [
         113,
         6.8,
         3.0,
         5.5,
         2.1,
         "Iris-virginica"
        ],
        [
         114,
         5.7,
         2.5,
         5.0,
         2.0,
         "Iris-virginica"
        ],
        [
         115,
         5.8,
         2.8,
         5.1,
         2.4,
         "Iris-virginica"
        ],
        [
         116,
         6.4,
         3.2,
         5.3,
         2.3,
         "Iris-virginica"
        ],
        [
         117,
         6.5,
         3.0,
         5.5,
         1.8,
         "Iris-virginica"
        ],
        [
         118,
         7.7,
         3.8,
         6.7,
         2.2,
         "Iris-virginica"
        ],
        [
         119,
         7.7,
         2.6,
         6.9,
         2.3,
         "Iris-virginica"
        ],
        [
         120,
         6.0,
         2.2,
         5.0,
         1.5,
         "Iris-virginica"
        ],
        [
         121,
         6.9,
         3.2,
         5.7,
         2.3,
         "Iris-virginica"
        ],
        [
         122,
         5.6,
         2.8,
         4.9,
         2.0,
         "Iris-virginica"
        ],
        [
         123,
         7.7,
         2.8,
         6.7,
         2.0,
         "Iris-virginica"
        ],
        [
         124,
         6.3,
         2.7,
         4.9,
         1.8,
         "Iris-virginica"
        ],
        [
         125,
         6.7,
         3.3,
         5.7,
         2.1,
         "Iris-virginica"
        ],
        [
         126,
         7.2,
         3.2,
         6.0,
         1.8,
         "Iris-virginica"
        ],
        [
         127,
         6.2,
         2.8,
         4.8,
         1.8,
         "Iris-virginica"
        ],
        [
         128,
         6.1,
         3.0,
         4.9,
         1.8,
         "Iris-virginica"
        ],
        [
         129,
         6.4,
         2.8,
         5.6,
         2.1,
         "Iris-virginica"
        ],
        [
         130,
         7.2,
         3.0,
         5.8,
         1.6,
         "Iris-virginica"
        ],
        [
         131,
         7.4,
         2.8,
         6.1,
         1.9,
         "Iris-virginica"
        ],
        [
         132,
         7.9,
         3.8,
         6.4,
         2.0,
         "Iris-virginica"
        ],
        [
         133,
         6.4,
         2.8,
         5.6,
         2.2,
         "Iris-virginica"
        ],
        [
         134,
         6.3,
         2.8,
         5.1,
         1.5,
         "Iris-virginica"
        ],
        [
         135,
         6.1,
         2.6,
         5.6,
         1.4,
         "Iris-virginica"
        ],
        [
         136,
         7.7,
         3.0,
         6.1,
         2.3,
         "Iris-virginica"
        ],
        [
         137,
         6.3,
         3.4,
         5.6,
         2.4,
         "Iris-virginica"
        ],
        [
         138,
         6.4,
         3.1,
         5.5,
         1.8,
         "Iris-virginica"
        ],
        [
         139,
         6.0,
         3.0,
         4.8,
         1.8,
         "Iris-virginica"
        ],
        [
         140,
         6.9,
         3.1,
         5.4,
         2.1,
         "Iris-virginica"
        ],
        [
         141,
         6.7,
         3.1,
         5.6,
         2.4,
         "Iris-virginica"
        ],
        [
         142,
         6.9,
         3.1,
         5.1,
         2.3,
         "Iris-virginica"
        ],
        [
         143,
         5.8,
         2.7,
         5.1,
         1.9,
         "Iris-virginica"
        ],
        [
         144,
         6.8,
         3.2,
         5.9,
         2.3,
         "Iris-virginica"
        ],
        [
         145,
         6.7,
         3.3,
         5.7,
         2.5,
         "Iris-virginica"
        ],
        [
         146,
         6.7,
         3.0,
         5.2,
         2.3,
         "Iris-virginica"
        ],
        [
         147,
         6.3,
         2.5,
         5.0,
         1.9,
         "Iris-virginica"
        ],
        [
         148,
         6.5,
         3.0,
         5.2,
         2.0,
         "Iris-virginica"
        ],
        [
         149,
         6.2,
         3.4,
         5.4,
         2.3,
         "Iris-virginica"
        ],
        [
         150,
         5.9,
         3.0,
         5.1,
         1.8,
         "Iris-virginica"
        ]
       ],
       "datasetInfos": [],
       "dbfsResultPath": null,
       "isJsonSchema": true,
       "metadata": {},
       "overflow": false,
       "plotOptions": {
        "customPlotOptions": {},
        "displayType": "table",
        "pivotAggregation": null,
        "pivotColumns": null,
        "xColumns": null,
        "yColumns": null
       },
       "removedWidgets": [],
       "schema": [
        {
         "metadata": "{}",
         "name": "Id",
         "type": "\"integer\""
        },
        {
         "metadata": "{}",
         "name": "SepalLengthCm",
         "type": "\"double\""
        },
        {
         "metadata": "{}",
         "name": "SepalWidthCm",
         "type": "\"double\""
        },
        {
         "metadata": "{}",
         "name": "PetalLengthCm",
         "type": "\"double\""
        },
        {
         "metadata": "{}",
         "name": "PetalWidthCm",
         "type": "\"double\""
        },
        {
         "metadata": "{}",
         "name": "Species",
         "type": "\"string\""
        }
       ],
       "type": "table"
      }
     },
     "output_type": "display_data"
    }
   ],
   "source": [
    "# Read data from URL into DataFrame\n",
    "file_path = \"/FileStore/tables/Iris.csv\"\n",
    "iris_df = spark.read.csv(file_path, header=True, inferSchema=True)\n",
    "\n",
    "# Show the DataFrame schema and first few rows\n",
    "iris_df.printSchema()\n",
    "display(iris_df)"
   ]
  },
  {
   "cell_type": "code",
   "execution_count": 0,
   "metadata": {
    "application/vnd.databricks.v1+cell": {
     "cellMetadata": {
      "byteLimit": 2048000,
      "rowLimit": 10000
     },
     "inputWidgets": {},
     "nuid": "3f777a53-3af0-4168-a908-9b8da629d605",
     "showTitle": true,
     "title": "Calculation of Correlation using Data Frame API"
    }
   },
   "outputs": [
    {
     "output_type": "stream",
     "name": "stdout",
     "output_type": "stream",
     "text": [
      "Correlation between SepalLengthCm and PetalLengthCm : 0.8717541573048717\n"
     ]
    }
   ],
   "source": [
    "# Calculate correlation\n",
    "correlation = iris_df.corr(\"SepalLengthCm\", \"PetalLengthCm\")\n",
    "\n",
    "print(\"Correlation between SepalLengthCm and PetalLengthCm :\", correlation)"
   ]
  },
  {
   "cell_type": "code",
   "execution_count": 0,
   "metadata": {
    "application/vnd.databricks.v1+cell": {
     "cellMetadata": {
      "byteLimit": 2048000,
      "rowLimit": 10000
     },
     "inputWidgets": {},
     "nuid": "d24bf447-49d6-4a38-ae1c-457f7b0cde8b",
     "showTitle": true,
     "title": "Calculation of Correlation using RDD"
    }
   },
   "outputs": [
    {
     "output_type": "stream",
     "name": "stdout",
     "output_type": "stream",
     "text": [
      "Correlation matrix:\n               SepalLengthCm  SepalWidthCm  PetalLengthCm  PetalWidthCm\nSepalLengthCm       1.000000     -0.109369       0.871754      0.817954\nSepalWidthCm       -0.109369      1.000000      -0.420516     -0.356544\nPetalLengthCm       0.871754     -0.420516       1.000000      0.962757\nPetalWidthCm        0.817954     -0.356544       0.962757      1.000000\n"
     ]
    }
   ],
   "source": [
    "from pyspark.mllib.stat import Statistics\n",
    "from pyspark.mllib.linalg import Vectors\n",
    "import pandas as pd\n",
    "\n",
    "# Select only numeric columns\n",
    "columns = [\"SepalLengthCm\",  \"SepalWidthCm\", \"PetalLengthCm\", \"PetalWidthCm\"]\n",
    "data = iris_df.select(columns)\n",
    "\n",
    "# Convert the DataFrame into an RDD of Vectors\n",
    "rdd_vectors = data.rdd.map(lambda row: Vectors.dense(row))\n",
    "\n",
    "# Calculate the Pearson correlation matrix using the RDD of Vectors\n",
    "correlation_matrix = Statistics.corr(rdd_vectors, method=\"pearson\")\n",
    "\n",
    "correlation_df = pd.DataFrame(correlation_matrix, columns=columns, index=columns)\n",
    "print(\"Correlation matrix:\")\n",
    "print(correlation_df)"
   ]
  },
  {
   "cell_type": "code",
   "execution_count": 0,
   "metadata": {
    "application/vnd.databricks.v1+cell": {
     "cellMetadata": {
      "byteLimit": 2048000,
      "rowLimit": 10000
     },
     "inputWidgets": {},
     "nuid": "943016f0-abaf-4cdf-8399-4ab6fc7dd3b7",
     "showTitle": true,
     "title": "Correlation heat map using Correlation matrix"
    }
   },
   "outputs": [
    {
     "output_type": "display_data",
     "data": {
      "image/png": "[encoded data removed]"
     },
     "metadata": {
      "application/vnd.databricks.v1+output": {
       "addedWidgets": {},
       "arguments": {},
       "data": "data:image/png;base64,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\n",
       "datasetInfos": [],
       "metadata": {},
       "removedWidgets": [],
       "type": "image"
      }
     },
     "output_type": "display_data"
    }
   ],
   "source": [
    "import seaborn as sns\n",
    "import matplotlib.pyplot as plt\n",
    "import pandas as pd\n",
    "\n",
    "# Convert the correlation matrix to a Pandas DataFrame\n",
    "correlation_df = pd.DataFrame(correlation_matrix, columns=columns, index=columns)\n",
    "\n",
    "# Create the heatmap using Seaborn\n",
    "plt.figure(figsize=(12, 4))\n",
    "sns.heatmap(correlation_df, annot=True, cmap=\"coolwarm\", cbar_kws={\"aspect\": 60})\n",
    "plt.title(\"Correlation Matrix Heatmap\")\n",
    "plt.show()"
   ]
  },
  {
   "cell_type": "code",
   "execution_count": 0,
   "metadata": {
    "application/vnd.databricks.v1+cell": {
     "cellMetadata": {},
     "inputWidgets": {},
     "nuid": "a535282d-863a-4812-b80d-30450980aefe",
     "showTitle": false,
     "title": ""
    }
   },
   "outputs": [],
   "source": []
  }
 ],
 "metadata": {
  "application/vnd.databricks.v1+notebook": {
   "dashboards": [],
   "language": "python",
   "notebookMetadata": {
    "pythonIndentUnit": 4
   },
   "notebookName": "Assignment 4",
   "widgets": {}
  }
 },
 "nbformat": 4,
 "nbformat_minor": 0
}
