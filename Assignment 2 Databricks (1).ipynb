{
 "cells": [
  {
   "cell_type": "code",
   "execution_count": 0,
   "metadata": {
    "application/vnd.databricks.v1+cell": {
     "cellMetadata": {},
     "inputWidgets": {},
     "nuid": "277b2914-f0ad-44cd-8990-0985995f7213",
     "showTitle": false,
     "title": ""
    }
   },
   "outputs": [],
   "source": [
    "/FileStore/tables/menu-2.csv"
   ]
  },
  {
   "cell_type": "code",
   "execution_count": 0,
   "metadata": {
    "application/vnd.databricks.v1+cell": {
     "cellMetadata": {},
     "inputWidgets": {},
     "nuid": "3452a03b-4051-47ba-8e70-79a7543e3e0d",
     "showTitle": false,
     "title": ""
    }
   },
   "outputs": [],
   "source": [
    "/FileStore/tables/sales-4.csv"
   ]
  },
  {
   "cell_type": "code",
   "execution_count": 0,
   "metadata": {
    "application/vnd.databricks.v1+cell": {
     "cellMetadata": {
      "byteLimit": 2048000,
      "rowLimit": 10000
     },
     "inputWidgets": {},
     "nuid": "b68485d8-02c7-4b3a-8789-3bb10b33a7f8",
     "showTitle": true,
     "title": "Menu Data"
    }
   },
   "outputs": [
    {
     "output_type": "display_data",
     "data": {
      "text/html": [
       "<style scoped>\n",
       "  .table-result-container {\n",
       "    max-height: 300px;\n",
       "    overflow: auto;\n",
       "  }\n",
       "  table, th, td {\n",
       "    border: 1px solid black;\n",
       "    border-collapse: collapse;\n",
       "  }\n",
       "  th, td {\n",
       "    padding: 5px;\n",
       "  }\n",
       "  th {\n",
       "    text-align: left;\n",
       "  }\n",
       "</style><div class='table-result-container'><table class='table-result'><thead style='background-color: white'><tr><th>ID</th><th>Item_name</th><th>price</th></tr></thead><tbody><tr><td>1</td><td> PIZZA</td><td>100</td></tr><tr><td>2</td><td> Chowmin</td><td>150</td></tr><tr><td>3</td><td> sandwich</td><td>120</td></tr><tr><td>4</td><td> Dosa</td><td>110</td></tr><tr><td>5</td><td> Biryani</td><td>80</td></tr><tr><td>6</td><td> Pasta</td><td>180</td></tr></tbody></table></div>"
      ]
     },
     "metadata": {
      "application/vnd.databricks.v1+output": {
       "addedWidgets": {},
       "aggData": [],
       "aggError": "",
       "aggOverflow": false,
       "aggSchema": [],
       "aggSeriesLimitReached": false,
       "aggType": "",
       "arguments": {},
       "columnCustomDisplayInfos": {},
       "data": [
        [
         1,
         " PIZZA",
         100
        ],
        [
         2,
         " Chowmin",
         150
        ],
        [
         3,
         " sandwich",
         120
        ],
        [
         4,
         " Dosa",
         110
        ],
        [
         5,
         " Biryani",
         80
        ],
        [
         6,
         " Pasta",
         180
        ]
       ],
       "datasetInfos": [],
       "dbfsResultPath": null,
       "isJsonSchema": true,
       "metadata": {},
       "overflow": false,
       "plotOptions": {
        "customPlotOptions": {},
        "displayType": "table",
        "pivotAggregation": null,
        "pivotColumns": null,
        "xColumns": null,
        "yColumns": null
       },
       "removedWidgets": [],
       "schema": [
        {
         "metadata": "{}",
         "name": "ID",
         "type": "\"integer\""
        },
        {
         "metadata": "{}",
         "name": "Item_name",
         "type": "\"string\""
        },
        {
         "metadata": "{}",
         "name": "price",
         "type": "\"integer\""
        }
       ],
       "type": "table"
      }
     },
     "output_type": "display_data"
    }
   ],
   "source": [
    "from pyspark.sql.types import StructType, StructField, StringType, IntegerType\n",
    "schema= StructType([\n",
    "   StructField(\"ID\", IntegerType(), True),\n",
    "   StructField(\"Item_name\", StringType(), True),\n",
    "   StructField(\"price\", IntegerType(), True),\n",
    "])\n",
    "menu_df = spark.read.format(\"csv\").option(\"inferschema\", \"true\").schema(schema).load(\"/FileStore/tables/menu-2.csv\")\n",
    "display(menu_df)\n",
    "\n",
    "#menu_df.show()"
   ]
  },
  {
   "cell_type": "code",
   "execution_count": 0,
   "metadata": {
    "application/vnd.databricks.v1+cell": {
     "cellMetadata": {
      "byteLimit": 2048000,
      "rowLimit": 10000
     },
     "inputWidgets": {},
     "nuid": "c530352c-53a1-429f-928d-22d02fc62ba7",
     "showTitle": true,
     "title": "Sales Data"
    }
   },
   "outputs": [
    {
     "output_type": "display_data",
     "data": {
      "text/html": [
       "<style scoped>\n",
       "  .table-result-container {\n",
       "    max-height: 300px;\n",
       "    overflow: auto;\n",
       "  }\n",
       "  table, th, td {\n",
       "    border: 1px solid black;\n",
       "    border-collapse: collapse;\n",
       "  }\n",
       "  th, td {\n",
       "    padding: 5px;\n",
       "  }\n",
       "  th {\n",
       "    text-align: left;\n",
       "  }\n",
       "</style><div class='table-result-container'><table class='table-result'><thead style='background-color: white'><tr><th>ID</th><th>Customer_ID</th><th>Order_Date</th><th>location</th><th>source_order</th></tr></thead><tbody><tr><td>1</td><td>A</td><td>2023-01-01</td><td>Canada</td><td>Uber Eats</td></tr><tr><td>2</td><td>A</td><td>2022-01-01</td><td>Canada</td><td>Uber Eats</td></tr><tr><td>2</td><td>A</td><td>2023-01-07</td><td>Canada</td><td>Uber Eats</td></tr><tr><td>3</td><td>A</td><td>2023-01-10</td><td>Canada</td><td>Restaurant</td></tr><tr><td>3</td><td>A</td><td>2022-01-11</td><td>Canada</td><td>Uber Eats</td></tr><tr><td>3</td><td>A</td><td>2023-01-11</td><td>Canada</td><td>Restaurant</td></tr><tr><td>2</td><td>B</td><td>2022-02-01</td><td>Canada</td><td>Uber Eats</td></tr><tr><td>2</td><td>B</td><td>2023-01-02</td><td>Canada</td><td>Uber Eats</td></tr><tr><td>1</td><td>B</td><td>2023-01-04</td><td>Canada</td><td>Restaurant</td></tr><tr><td>1</td><td>B</td><td>2023-02-11</td><td>Canada</td><td>Uber Eats</td></tr><tr><td>3</td><td>B</td><td>2023-01-16</td><td>Canada</td><td>Door Dash</td></tr><tr><td>3</td><td>B</td><td>2022-02-01</td><td>Canada</td><td>Door Dash</td></tr><tr><td>3</td><td>C</td><td>2023-01-01</td><td>Canada</td><td>Door Dash</td></tr><tr><td>1</td><td>C</td><td>2023-01-01</td><td>UK</td><td>Uber Eats</td></tr><tr><td>6</td><td>C</td><td>2022-01-07</td><td>UK</td><td>Door Dash</td></tr><tr><td>3</td><td>D</td><td>2023-02-16</td><td>UK</td><td>Restaurant</td></tr><tr><td>5</td><td>D</td><td>2022-02-01</td><td>UK</td><td>Door Dash</td></tr><tr><td>3</td><td>E</td><td>2023-02-01</td><td>UK</td><td>Restaurant</td></tr><tr><td>4</td><td>E</td><td>2023-02-01</td><td>UK</td><td>Uber Eats</td></tr><tr><td>4</td><td>E</td><td>2023-02-07</td><td>UK</td><td>Restaurant</td></tr><tr><td>2</td><td>A</td><td>2022-01-01</td><td>UK</td><td>Uber Eats</td></tr><tr><td>2</td><td>A</td><td>2023-01-07</td><td>UK</td><td>Uber Eats</td></tr><tr><td>3</td><td>A</td><td>2023-01-10</td><td>UK</td><td>Restaurant</td></tr><tr><td>3</td><td>A</td><td>2022-01-11</td><td>UK</td><td>Uber Eats</td></tr><tr><td>3</td><td>A</td><td>2023-01-11</td><td>UK</td><td>Door Dash</td></tr><tr><td>2</td><td>B</td><td>2022-03-01</td><td>UK</td><td>Door Dash</td></tr><tr><td>2</td><td>B</td><td>2023-01-02</td><td>UK</td><td>Door Dash</td></tr><tr><td>1</td><td>B</td><td>2023-01-04</td><td>UK</td><td>Uber Eats</td></tr><tr><td>1</td><td>B</td><td>2023-03-11</td><td>UK</td><td>Restaurant</td></tr><tr><td>3</td><td>B</td><td>2023-01-16</td><td>UK</td><td>Uber Eats</td></tr><tr><td>3</td><td>B</td><td>2023-03-01</td><td>UK</td><td>Uber Eats</td></tr><tr><td>3</td><td>C</td><td>2023-01-01</td><td>UK</td><td>Restaurant</td></tr><tr><td>1</td><td>C</td><td>2023-01-01</td><td>USA</td><td>Uber Eats</td></tr><tr><td>6</td><td>C</td><td>2023-01-07</td><td>USA</td><td>Door Dash</td></tr><tr><td>3</td><td>D</td><td>2022-03-16</td><td>USA</td><td>Door Dash</td></tr><tr><td>5</td><td>D</td><td>2023-03-01</td><td>USA</td><td>Door Dash</td></tr><tr><td>3</td><td>E</td><td>2023-03-01</td><td>USA</td><td>Uber Eats</td></tr><tr><td>4</td><td>E</td><td>2022-03-01</td><td>USA</td><td>Door Dash</td></tr><tr><td>4</td><td>E</td><td>2023-03-07</td><td>USA</td><td>Door Dash</td></tr><tr><td>1</td><td>A</td><td>2023-05-05</td><td>Canada</td><td>Uber Eats</td></tr><tr><td>2</td><td>A</td><td>2022-05-05</td><td>Canada</td><td>Uber Eats</td></tr><tr><td>2</td><td>A</td><td>2023-05-07</td><td>Canada</td><td>Uber Eats</td></tr><tr><td>3</td><td>A</td><td>2023-05-10</td><td>Canada</td><td>Restaurant</td></tr><tr><td>3</td><td>A</td><td>2022-05-11</td><td>Canada</td><td>Uber Eats</td></tr><tr><td>3</td><td>A</td><td>2023-05-11</td><td>Canada</td><td>Restaurant</td></tr><tr><td>2</td><td>B</td><td>2022-02-05</td><td>Canada</td><td>Uber Eats</td></tr><tr><td>2</td><td>B</td><td>2023-05-02</td><td>Canada</td><td>Uber Eats</td></tr><tr><td>1</td><td>B</td><td>2023-05-04</td><td>Canada</td><td>Restaurant</td></tr><tr><td>1</td><td>B</td><td>2023-02-11</td><td>Canada</td><td>Uber Eats</td></tr><tr><td>3</td><td>B</td><td>2023-05-16</td><td>Canada</td><td>Door Dash</td></tr><tr><td>3</td><td>B</td><td>2022-02-05</td><td>Canada</td><td>Door Dash</td></tr><tr><td>3</td><td>C</td><td>2023-05-05</td><td>Canada</td><td>Door Dash</td></tr><tr><td>1</td><td>C</td><td>2023-05-05</td><td>UK</td><td>Uber Eats</td></tr><tr><td>6</td><td>C</td><td>2022-05-07</td><td>UK</td><td>Door Dash</td></tr><tr><td>3</td><td>D</td><td>2023-02-16</td><td>UK</td><td>Restaurant</td></tr><tr><td>5</td><td>D</td><td>2022-02-05</td><td>UK</td><td>Door Dash</td></tr><tr><td>3</td><td>E</td><td>2023-02-05</td><td>UK</td><td>Restaurant</td></tr><tr><td>4</td><td>E</td><td>2023-02-05</td><td>UK</td><td>Uber Eats</td></tr><tr><td>4</td><td>E</td><td>2023-02-07</td><td>UK</td><td>Restaurant</td></tr><tr><td>2</td><td>A</td><td>2022-05-05</td><td>UK</td><td>Uber Eats</td></tr><tr><td>2</td><td>A</td><td>2023-05-07</td><td>UK</td><td>Uber Eats</td></tr><tr><td>3</td><td>A</td><td>2023-05-10</td><td>UK</td><td>Restaurant</td></tr><tr><td>3</td><td>A</td><td>2022-05-11</td><td>UK</td><td>Uber Eats</td></tr><tr><td>3</td><td>A</td><td>2023-05-11</td><td>UK</td><td>Door Dash</td></tr><tr><td>2</td><td>B</td><td>2022-07-05</td><td>UK</td><td>Door Dash</td></tr><tr><td>2</td><td>B</td><td>2023-05-02</td><td>UK</td><td>Door Dash</td></tr><tr><td>1</td><td>B</td><td>2023-05-04</td><td>UK</td><td>Uber Eats</td></tr><tr><td>1</td><td>B</td><td>2023-07-11</td><td>UK</td><td>Restaurant</td></tr><tr><td>3</td><td>B</td><td>2023-05-16</td><td>UK</td><td>Uber Eats</td></tr><tr><td>3</td><td>B</td><td>2023-07-05</td><td>UK</td><td>Uber Eats</td></tr><tr><td>3</td><td>C</td><td>2023-05-05</td><td>UK</td><td>Restaurant</td></tr><tr><td>1</td><td>C</td><td>2023-05-05</td><td>USA</td><td>Uber Eats</td></tr><tr><td>6</td><td>C</td><td>2023-05-07</td><td>USA</td><td>Door Dash</td></tr><tr><td>3</td><td>D</td><td>2022-07-16</td><td>USA</td><td>Door Dash</td></tr><tr><td>5</td><td>D</td><td>2023-07-05</td><td>USA</td><td>Door Dash</td></tr><tr><td>3</td><td>E</td><td>2023-07-05</td><td>USA</td><td>Uber Eats</td></tr><tr><td>4</td><td>E</td><td>2022-07-05</td><td>USA</td><td>Door Dash</td></tr><tr><td>4</td><td>E</td><td>2023-07-07</td><td>USA</td><td>Door Dash</td></tr><tr><td>1</td><td>A</td><td>2023-06-06</td><td>Canada</td><td>Uber Eats</td></tr><tr><td>2</td><td>A</td><td>2022-06-06</td><td>Canada</td><td>Uber Eats</td></tr><tr><td>2</td><td>A</td><td>2023-06-11</td><td>Canada</td><td>Uber Eats</td></tr><tr><td>3</td><td>A</td><td>2023-06-10</td><td>Canada</td><td>Restaurant</td></tr><tr><td>3</td><td>A</td><td>2022-06-11</td><td>Canada</td><td>Uber Eats</td></tr><tr><td>3</td><td>A</td><td>2023-06-11</td><td>Canada</td><td>Restaurant</td></tr><tr><td>2</td><td>B</td><td>2022-02-06</td><td>Canada</td><td>Uber Eats</td></tr><tr><td>2</td><td>B</td><td>2023-06-02</td><td>Canada</td><td>Uber Eats</td></tr><tr><td>1</td><td>B</td><td>2023-06-04</td><td>Canada</td><td>Restaurant</td></tr><tr><td>1</td><td>B</td><td>2023-02-11</td><td>Canada</td><td>Uber Eats</td></tr><tr><td>3</td><td>B</td><td>2023-06-16</td><td>Canada</td><td>Door Dash</td></tr><tr><td>3</td><td>B</td><td>2022-02-06</td><td>Canada</td><td>Door Dash</td></tr><tr><td>3</td><td>C</td><td>2023-06-06</td><td>Canada</td><td>Door Dash</td></tr><tr><td>1</td><td>C</td><td>2023-06-06</td><td>UK</td><td>Uber Eats</td></tr><tr><td>6</td><td>C</td><td>2022-06-11</td><td>UK</td><td>Door Dash</td></tr><tr><td>3</td><td>D</td><td>2023-02-16</td><td>UK</td><td>Restaurant</td></tr><tr><td>5</td><td>D</td><td>2022-02-06</td><td>UK</td><td>Door Dash</td></tr><tr><td>3</td><td>E</td><td>2023-02-06</td><td>UK</td><td>Restaurant</td></tr><tr><td>4</td><td>E</td><td>2023-02-06</td><td>UK</td><td>Uber Eats</td></tr><tr><td>4</td><td>E</td><td>2023-02-11</td><td>UK</td><td>Restaurant</td></tr><tr><td>2</td><td>A</td><td>2022-06-06</td><td>UK</td><td>Uber Eats</td></tr><tr><td>2</td><td>A</td><td>2023-06-11</td><td>UK</td><td>Uber Eats</td></tr><tr><td>3</td><td>A</td><td>2023-06-10</td><td>UK</td><td>Restaurant</td></tr><tr><td>3</td><td>A</td><td>2022-06-11</td><td>UK</td><td>Uber Eats</td></tr><tr><td>3</td><td>A</td><td>2023-06-11</td><td>UK</td><td>Door Dash</td></tr><tr><td>2</td><td>B</td><td>2022-11-06</td><td>UK</td><td>Door Dash</td></tr><tr><td>2</td><td>B</td><td>2023-06-02</td><td>UK</td><td>Door Dash</td></tr><tr><td>1</td><td>B</td><td>2023-06-04</td><td>UK</td><td>Uber Eats</td></tr><tr><td>1</td><td>B</td><td>2023-11-11</td><td>UK</td><td>Restaurant</td></tr><tr><td>3</td><td>B</td><td>2023-06-16</td><td>UK</td><td>Uber Eats</td></tr><tr><td>3</td><td>B</td><td>2023-11-06</td><td>UK</td><td>Uber Eats</td></tr><tr><td>3</td><td>C</td><td>2023-06-06</td><td>UK</td><td>Restaurant</td></tr><tr><td>1</td><td>C</td><td>2023-06-06</td><td>USA</td><td>Uber Eats</td></tr><tr><td>6</td><td>C</td><td>2023-06-11</td><td>USA</td><td>Door Dash</td></tr><tr><td>3</td><td>D</td><td>2022-11-16</td><td>USA</td><td>Door Dash</td></tr><tr><td>5</td><td>D</td><td>2023-11-06</td><td>USA</td><td>Door Dash</td></tr><tr><td>3</td><td>E</td><td>2023-11-06</td><td>USA</td><td>Uber Eats</td></tr><tr><td>4</td><td>E</td><td>2022-11-06</td><td>USA</td><td>Door Dash</td></tr><tr><td>4</td><td>E</td><td>2023-11-11</td><td>USA</td><td>Door Dash</td></tr><tr><td>null</td><td>null</td><td>null</td><td>null</td><td>null</td></tr></tbody></table></div>"
      ]
     },
     "metadata": {
      "application/vnd.databricks.v1+output": {
       "addedWidgets": {},
       "aggData": [],
       "aggError": "",
       "aggOverflow": false,
       "aggSchema": [],
       "aggSeriesLimitReached": false,
       "aggType": "",
       "arguments": {},
       "columnCustomDisplayInfos": {},
       "data": [
        [
         1,
         "A",
         "2023-01-01",
         "Canada",
         "Uber Eats"
        ],
        [
         2,
         "A",
         "2022-01-01",
         "Canada",
         "Uber Eats"
        ],
        [
         2,
         "A",
         "2023-01-07",
         "Canada",
         "Uber Eats"
        ],
        [
         3,
         "A",
         "2023-01-10",
         "Canada",
         "Restaurant"
        ],
        [
         3,
         "A",
         "2022-01-11",
         "Canada",
         "Uber Eats"
        ],
        [
         3,
         "A",
         "2023-01-11",
         "Canada",
         "Restaurant"
        ],
        [
         2,
         "B",
         "2022-02-01",
         "Canada",
         "Uber Eats"
        ],
        [
         2,
         "B",
         "2023-01-02",
         "Canada",
         "Uber Eats"
        ],
        [
         1,
         "B",
         "2023-01-04",
         "Canada",
         "Restaurant"
        ],
        [
         1,
         "B",
         "2023-02-11",
         "Canada",
         "Uber Eats"
        ],
        [
         3,
         "B",
         "2023-01-16",
         "Canada",
         "Door Dash"
        ],
        [
         3,
         "B",
         "2022-02-01",
         "Canada",
         "Door Dash"
        ],
        [
         3,
         "C",
         "2023-01-01",
         "Canada",
         "Door Dash"
        ],
        [
         1,
         "C",
         "2023-01-01",
         "UK",
         "Uber Eats"
        ],
        [
         6,
         "C",
         "2022-01-07",
         "UK",
         "Door Dash"
        ],
        [
         3,
         "D",
         "2023-02-16",
         "UK",
         "Restaurant"
        ],
        [
         5,
         "D",
         "2022-02-01",
         "UK",
         "Door Dash"
        ],
        [
         3,
         "E",
         "2023-02-01",
         "UK",
         "Restaurant"
        ],
        [
         4,
         "E",
         "2023-02-01",
         "UK",
         "Uber Eats"
        ],
        [
         4,
         "E",
         "2023-02-07",
         "UK",
         "Restaurant"
        ],
        [
         2,
         "A",
         "2022-01-01",
         "UK",
         "Uber Eats"
        ],
        [
         2,
         "A",
         "2023-01-07",
         "UK",
         "Uber Eats"
        ],
        [
         3,
         "A",
         "2023-01-10",
         "UK",
         "Restaurant"
        ],
        [
         3,
         "A",
         "2022-01-11",
         "UK",
         "Uber Eats"
        ],
        [
         3,
         "A",
         "2023-01-11",
         "UK",
         "Door Dash"
        ],
        [
         2,
         "B",
         "2022-03-01",
         "UK",
         "Door Dash"
        ],
        [
         2,
         "B",
         "2023-01-02",
         "UK",
         "Door Dash"
        ],
        [
         1,
         "B",
         "2023-01-04",
         "UK",
         "Uber Eats"
        ],
        [
         1,
         "B",
         "2023-03-11",
         "UK",
         "Restaurant"
        ],
        [
         3,
         "B",
         "2023-01-16",
         "UK",
         "Uber Eats"
        ],
        [
         3,
         "B",
         "2023-03-01",
         "UK",
         "Uber Eats"
        ],
        [
         3,
         "C",
         "2023-01-01",
         "UK",
         "Restaurant"
        ],
        [
         1,
         "C",
         "2023-01-01",
         "USA",
         "Uber Eats"
        ],
        [
         6,
         "C",
         "2023-01-07",
         "USA",
         "Door Dash"
        ],
        [
         3,
         "D",
         "2022-03-16",
         "USA",
         "Door Dash"
        ],
        [
         5,
         "D",
         "2023-03-01",
         "USA",
         "Door Dash"
        ],
        [
         3,
         "E",
         "2023-03-01",
         "USA",
         "Uber Eats"
        ],
        [
         4,
         "E",
         "2022-03-01",
         "USA",
         "Door Dash"
        ],
        [
         4,
         "E",
         "2023-03-07",
         "USA",
         "Door Dash"
        ],
        [
         1,
         "A",
         "2023-05-05",
         "Canada",
         "Uber Eats"
        ],
        [
         2,
         "A",
         "2022-05-05",
         "Canada",
         "Uber Eats"
        ],
        [
         2,
         "A",
         "2023-05-07",
         "Canada",
         "Uber Eats"
        ],
        [
         3,
         "A",
         "2023-05-10",
         "Canada",
         "Restaurant"
        ],
        [
         3,
         "A",
         "2022-05-11",
         "Canada",
         "Uber Eats"
        ],
        [
         3,
         "A",
         "2023-05-11",
         "Canada",
         "Restaurant"
        ],
        [
         2,
         "B",
         "2022-02-05",
         "Canada",
         "Uber Eats"
        ],
        [
         2,
         "B",
         "2023-05-02",
         "Canada",
         "Uber Eats"
        ],
        [
         1,
         "B",
         "2023-05-04",
         "Canada",
         "Restaurant"
        ],
        [
         1,
         "B",
         "2023-02-11",
         "Canada",
         "Uber Eats"
        ],
        [
         3,
         "B",
         "2023-05-16",
         "Canada",
         "Door Dash"
        ],
        [
         3,
         "B",
         "2022-02-05",
         "Canada",
         "Door Dash"
        ],
        [
         3,
         "C",
         "2023-05-05",
         "Canada",
         "Door Dash"
        ],
        [
         1,
         "C",
         "2023-05-05",
         "UK",
         "Uber Eats"
        ],
        [
         6,
         "C",
         "2022-05-07",
         "UK",
         "Door Dash"
        ],
        [
         3,
         "D",
         "2023-02-16",
         "UK",
         "Restaurant"
        ],
        [
         5,
         "D",
         "2022-02-05",
         "UK",
         "Door Dash"
        ],
        [
         3,
         "E",
         "2023-02-05",
         "UK",
         "Restaurant"
        ],
        [
         4,
         "E",
         "2023-02-05",
         "UK",
         "Uber Eats"
        ],
        [
         4,
         "E",
         "2023-02-07",
         "UK",
         "Restaurant"
        ],
        [
         2,
         "A",
         "2022-05-05",
         "UK",
         "Uber Eats"
        ],
        [
         2,
         "A",
         "2023-05-07",
         "UK",
         "Uber Eats"
        ],
        [
         3,
         "A",
         "2023-05-10",
         "UK",
         "Restaurant"
        ],
        [
         3,
         "A",
         "2022-05-11",
         "UK",
         "Uber Eats"
        ],
        [
         3,
         "A",
         "2023-05-11",
         "UK",
         "Door Dash"
        ],
        [
         2,
         "B",
         "2022-07-05",
         "UK",
         "Door Dash"
        ],
        [
         2,
         "B",
         "2023-05-02",
         "UK",
         "Door Dash"
        ],
        [
         1,
         "B",
         "2023-05-04",
         "UK",
         "Uber Eats"
        ],
        [
         1,
         "B",
         "2023-07-11",
         "UK",
         "Restaurant"
        ],
        [
         3,
         "B",
         "2023-05-16",
         "UK",
         "Uber Eats"
        ],
        [
         3,
         "B",
         "2023-07-05",
         "UK",
         "Uber Eats"
        ],
        [
         3,
         "C",
         "2023-05-05",
         "UK",
         "Restaurant"
        ],
        [
         1,
         "C",
         "2023-05-05",
         "USA",
         "Uber Eats"
        ],
        [
         6,
         "C",
         "2023-05-07",
         "USA",
         "Door Dash"
        ],
        [
         3,
         "D",
         "2022-07-16",
         "USA",
         "Door Dash"
        ],
        [
         5,
         "D",
         "2023-07-05",
         "USA",
         "Door Dash"
        ],
        [
         3,
         "E",
         "2023-07-05",
         "USA",
         "Uber Eats"
        ],
        [
         4,
         "E",
         "2022-07-05",
         "USA",
         "Door Dash"
        ],
        [
         4,
         "E",
         "2023-07-07",
         "USA",
         "Door Dash"
        ],
        [
         1,
         "A",
         "2023-06-06",
         "Canada",
         "Uber Eats"
        ],
        [
         2,
         "A",
         "2022-06-06",
         "Canada",
         "Uber Eats"
        ],
        [
         2,
         "A",
         "2023-06-11",
         "Canada",
         "Uber Eats"
        ],
        [
         3,
         "A",
         "2023-06-10",
         "Canada",
         "Restaurant"
        ],
        [
         3,
         "A",
         "2022-06-11",
         "Canada",
         "Uber Eats"
        ],
        [
         3,
         "A",
         "2023-06-11",
         "Canada",
         "Restaurant"
        ],
        [
         2,
         "B",
         "2022-02-06",
         "Canada",
         "Uber Eats"
        ],
        [
         2,
         "B",
         "2023-06-02",
         "Canada",
         "Uber Eats"
        ],
        [
         1,
         "B",
         "2023-06-04",
         "Canada",
         "Restaurant"
        ],
        [
         1,
         "B",
         "2023-02-11",
         "Canada",
         "Uber Eats"
        ],
        [
         3,
         "B",
         "2023-06-16",
         "Canada",
         "Door Dash"
        ],
        [
         3,
         "B",
         "2022-02-06",
         "Canada",
         "Door Dash"
        ],
        [
         3,
         "C",
         "2023-06-06",
         "Canada",
         "Door Dash"
        ],
        [
         1,
         "C",
         "2023-06-06",
         "UK",
         "Uber Eats"
        ],
        [
         6,
         "C",
         "2022-06-11",
         "UK",
         "Door Dash"
        ],
        [
         3,
         "D",
         "2023-02-16",
         "UK",
         "Restaurant"
        ],
        [
         5,
         "D",
         "2022-02-06",
         "UK",
         "Door Dash"
        ],
        [
         3,
         "E",
         "2023-02-06",
         "UK",
         "Restaurant"
        ],
        [
         4,
         "E",
         "2023-02-06",
         "UK",
         "Uber Eats"
        ],
        [
         4,
         "E",
         "2023-02-11",
         "UK",
         "Restaurant"
        ],
        [
         2,
         "A",
         "2022-06-06",
         "UK",
         "Uber Eats"
        ],
        [
         2,
         "A",
         "2023-06-11",
         "UK",
         "Uber Eats"
        ],
        [
         3,
         "A",
         "2023-06-10",
         "UK",
         "Restaurant"
        ],
        [
         3,
         "A",
         "2022-06-11",
         "UK",
         "Uber Eats"
        ],
        [
         3,
         "A",
         "2023-06-11",
         "UK",
         "Door Dash"
        ],
        [
         2,
         "B",
         "2022-11-06",
         "UK",
         "Door Dash"
        ],
        [
         2,
         "B",
         "2023-06-02",
         "UK",
         "Door Dash"
        ],
        [
         1,
         "B",
         "2023-06-04",
         "UK",
         "Uber Eats"
        ],
        [
         1,
         "B",
         "2023-11-11",
         "UK",
         "Restaurant"
        ],
        [
         3,
         "B",
         "2023-06-16",
         "UK",
         "Uber Eats"
        ],
        [
         3,
         "B",
         "2023-11-06",
         "UK",
         "Uber Eats"
        ],
        [
         3,
         "C",
         "2023-06-06",
         "UK",
         "Restaurant"
        ],
        [
         1,
         "C",
         "2023-06-06",
         "USA",
         "Uber Eats"
        ],
        [
         6,
         "C",
         "2023-06-11",
         "USA",
         "Door Dash"
        ],
        [
         3,
         "D",
         "2022-11-16",
         "USA",
         "Door Dash"
        ],
        [
         5,
         "D",
         "2023-11-06",
         "USA",
         "Door Dash"
        ],
        [
         3,
         "E",
         "2023-11-06",
         "USA",
         "Uber Eats"
        ],
        [
         4,
         "E",
         "2022-11-06",
         "USA",
         "Door Dash"
        ],
        [
         4,
         "E",
         "2023-11-11",
         "USA",
         "Door Dash"
        ],
        [
         null,
         null,
         null,
         null,
         null
        ]
       ],
       "datasetInfos": [],
       "dbfsResultPath": null,
       "isJsonSchema": true,
       "metadata": {},
       "overflow": false,
       "plotOptions": {
        "customPlotOptions": {},
        "displayType": "table",
        "pivotAggregation": null,
        "pivotColumns": null,
        "xColumns": null,
        "yColumns": null
       },
       "removedWidgets": [],
       "schema": [
        {
         "metadata": "{}",
         "name": "ID",
         "type": "\"integer\""
        },
        {
         "metadata": "{}",
         "name": "Customer_ID",
         "type": "\"string\""
        },
        {
         "metadata": "{}",
         "name": "Order_Date",
         "type": "\"date\""
        },
        {
         "metadata": "{}",
         "name": "location",
         "type": "\"string\""
        },
        {
         "metadata": "{}",
         "name": "source_order",
         "type": "\"string\""
        }
       ],
       "type": "table"
      }
     },
     "output_type": "display_data"
    }
   ],
   "source": [
    "from pyspark.sql.types import StructType, StructField, IntegerType, StringType, DateType\n",
    "schema= StructType([\n",
    "    StructField(\"ID\", IntegerType(), True),\n",
    "    StructField(\"Customer_ID\", StringType(), True),\n",
    "    StructField(\"Order_Date\", DateType(), True),\n",
    "    StructField(\"location\", StringType(), True),\n",
    "    StructField(\"source_order\", StringType(), True),\n",
    "])\n",
    "sales_df = spark.read.format(\"csv\").option(\"inferschema\", \"true\").schema(schema).load(\"/FileStore/tables/sales-4.csv\")\n",
    "display(sales_df)\n",
    "#sales_df.show()"
   ]
  },
  {
   "cell_type": "code",
   "execution_count": 0,
   "metadata": {
    "application/vnd.databricks.v1+cell": {
     "cellMetadata": {
      "byteLimit": 2048000,
      "rowLimit": 10000
     },
     "inputWidgets": {},
     "nuid": "760feb37-ce29-4c96-a0af-ca8fc195c0c1",
     "showTitle": true,
     "title": "Combining Menu and Sales Data along with Segregation of Order Data"
    }
   },
   "outputs": [
    {
     "output_type": "display_data",
     "data": {
      "text/html": [
       "<style scoped>\n",
       "  .table-result-container {\n",
       "    max-height: 300px;\n",
       "    overflow: auto;\n",
       "  }\n",
       "  table, th, td {\n",
       "    border: 1px solid black;\n",
       "    border-collapse: collapse;\n",
       "  }\n",
       "  th, td {\n",
       "    padding: 5px;\n",
       "  }\n",
       "  th {\n",
       "    text-align: left;\n",
       "  }\n",
       "</style><div class='table-result-container'><table class='table-result'><thead style='background-color: white'><tr><th>ID</th><th>Customer_ID</th><th>Order_Date</th><th>location</th><th>source_order</th><th>order_year</th><th>order_month</th><th>order_quarter</th><th>ID</th><th>Item_name</th><th>price</th></tr></thead><tbody><tr><td>1</td><td>A</td><td>2023-01-01</td><td>Canada</td><td>Uber Eats</td><td>2023</td><td>1</td><td>1</td><td>1</td><td> PIZZA</td><td>100</td></tr><tr><td>2</td><td>A</td><td>2022-01-01</td><td>Canada</td><td>Uber Eats</td><td>2022</td><td>1</td><td>1</td><td>2</td><td> Chowmin</td><td>150</td></tr><tr><td>2</td><td>A</td><td>2023-01-07</td><td>Canada</td><td>Uber Eats</td><td>2023</td><td>1</td><td>1</td><td>2</td><td> Chowmin</td><td>150</td></tr><tr><td>3</td><td>A</td><td>2023-01-10</td><td>Canada</td><td>Restaurant</td><td>2023</td><td>1</td><td>1</td><td>3</td><td> sandwich</td><td>120</td></tr><tr><td>3</td><td>A</td><td>2022-01-11</td><td>Canada</td><td>Uber Eats</td><td>2022</td><td>1</td><td>1</td><td>3</td><td> sandwich</td><td>120</td></tr><tr><td>3</td><td>A</td><td>2023-01-11</td><td>Canada</td><td>Restaurant</td><td>2023</td><td>1</td><td>1</td><td>3</td><td> sandwich</td><td>120</td></tr><tr><td>2</td><td>B</td><td>2022-02-01</td><td>Canada</td><td>Uber Eats</td><td>2022</td><td>2</td><td>1</td><td>2</td><td> Chowmin</td><td>150</td></tr><tr><td>2</td><td>B</td><td>2023-01-02</td><td>Canada</td><td>Uber Eats</td><td>2023</td><td>1</td><td>1</td><td>2</td><td> Chowmin</td><td>150</td></tr><tr><td>1</td><td>B</td><td>2023-01-04</td><td>Canada</td><td>Restaurant</td><td>2023</td><td>1</td><td>1</td><td>1</td><td> PIZZA</td><td>100</td></tr><tr><td>1</td><td>B</td><td>2023-02-11</td><td>Canada</td><td>Uber Eats</td><td>2023</td><td>2</td><td>1</td><td>1</td><td> PIZZA</td><td>100</td></tr><tr><td>3</td><td>B</td><td>2023-01-16</td><td>Canada</td><td>Door Dash</td><td>2023</td><td>1</td><td>1</td><td>3</td><td> sandwich</td><td>120</td></tr><tr><td>3</td><td>B</td><td>2022-02-01</td><td>Canada</td><td>Door Dash</td><td>2022</td><td>2</td><td>1</td><td>3</td><td> sandwich</td><td>120</td></tr><tr><td>3</td><td>C</td><td>2023-01-01</td><td>Canada</td><td>Door Dash</td><td>2023</td><td>1</td><td>1</td><td>3</td><td> sandwich</td><td>120</td></tr><tr><td>1</td><td>C</td><td>2023-01-01</td><td>UK</td><td>Uber Eats</td><td>2023</td><td>1</td><td>1</td><td>1</td><td> PIZZA</td><td>100</td></tr><tr><td>6</td><td>C</td><td>2022-01-07</td><td>UK</td><td>Door Dash</td><td>2022</td><td>1</td><td>1</td><td>6</td><td> Pasta</td><td>180</td></tr><tr><td>3</td><td>D</td><td>2023-02-16</td><td>UK</td><td>Restaurant</td><td>2023</td><td>2</td><td>1</td><td>3</td><td> sandwich</td><td>120</td></tr><tr><td>5</td><td>D</td><td>2022-02-01</td><td>UK</td><td>Door Dash</td><td>2022</td><td>2</td><td>1</td><td>5</td><td> Biryani</td><td>80</td></tr><tr><td>3</td><td>E</td><td>2023-02-01</td><td>UK</td><td>Restaurant</td><td>2023</td><td>2</td><td>1</td><td>3</td><td> sandwich</td><td>120</td></tr><tr><td>4</td><td>E</td><td>2023-02-01</td><td>UK</td><td>Uber Eats</td><td>2023</td><td>2</td><td>1</td><td>4</td><td> Dosa</td><td>110</td></tr><tr><td>4</td><td>E</td><td>2023-02-07</td><td>UK</td><td>Restaurant</td><td>2023</td><td>2</td><td>1</td><td>4</td><td> Dosa</td><td>110</td></tr><tr><td>2</td><td>A</td><td>2022-01-01</td><td>UK</td><td>Uber Eats</td><td>2022</td><td>1</td><td>1</td><td>2</td><td> Chowmin</td><td>150</td></tr><tr><td>2</td><td>A</td><td>2023-01-07</td><td>UK</td><td>Uber Eats</td><td>2023</td><td>1</td><td>1</td><td>2</td><td> Chowmin</td><td>150</td></tr><tr><td>3</td><td>A</td><td>2023-01-10</td><td>UK</td><td>Restaurant</td><td>2023</td><td>1</td><td>1</td><td>3</td><td> sandwich</td><td>120</td></tr><tr><td>3</td><td>A</td><td>2022-01-11</td><td>UK</td><td>Uber Eats</td><td>2022</td><td>1</td><td>1</td><td>3</td><td> sandwich</td><td>120</td></tr><tr><td>3</td><td>A</td><td>2023-01-11</td><td>UK</td><td>Door Dash</td><td>2023</td><td>1</td><td>1</td><td>3</td><td> sandwich</td><td>120</td></tr><tr><td>2</td><td>B</td><td>2022-03-01</td><td>UK</td><td>Door Dash</td><td>2022</td><td>3</td><td>1</td><td>2</td><td> Chowmin</td><td>150</td></tr><tr><td>2</td><td>B</td><td>2023-01-02</td><td>UK</td><td>Door Dash</td><td>2023</td><td>1</td><td>1</td><td>2</td><td> Chowmin</td><td>150</td></tr><tr><td>1</td><td>B</td><td>2023-01-04</td><td>UK</td><td>Uber Eats</td><td>2023</td><td>1</td><td>1</td><td>1</td><td> PIZZA</td><td>100</td></tr><tr><td>1</td><td>B</td><td>2023-03-11</td><td>UK</td><td>Restaurant</td><td>2023</td><td>3</td><td>1</td><td>1</td><td> PIZZA</td><td>100</td></tr><tr><td>3</td><td>B</td><td>2023-01-16</td><td>UK</td><td>Uber Eats</td><td>2023</td><td>1</td><td>1</td><td>3</td><td> sandwich</td><td>120</td></tr><tr><td>3</td><td>B</td><td>2023-03-01</td><td>UK</td><td>Uber Eats</td><td>2023</td><td>3</td><td>1</td><td>3</td><td> sandwich</td><td>120</td></tr><tr><td>3</td><td>C</td><td>2023-01-01</td><td>UK</td><td>Restaurant</td><td>2023</td><td>1</td><td>1</td><td>3</td><td> sandwich</td><td>120</td></tr><tr><td>1</td><td>C</td><td>2023-01-01</td><td>USA</td><td>Uber Eats</td><td>2023</td><td>1</td><td>1</td><td>1</td><td> PIZZA</td><td>100</td></tr><tr><td>6</td><td>C</td><td>2023-01-07</td><td>USA</td><td>Door Dash</td><td>2023</td><td>1</td><td>1</td><td>6</td><td> Pasta</td><td>180</td></tr><tr><td>3</td><td>D</td><td>2022-03-16</td><td>USA</td><td>Door Dash</td><td>2022</td><td>3</td><td>1</td><td>3</td><td> sandwich</td><td>120</td></tr><tr><td>5</td><td>D</td><td>2023-03-01</td><td>USA</td><td>Door Dash</td><td>2023</td><td>3</td><td>1</td><td>5</td><td> Biryani</td><td>80</td></tr><tr><td>3</td><td>E</td><td>2023-03-01</td><td>USA</td><td>Uber Eats</td><td>2023</td><td>3</td><td>1</td><td>3</td><td> sandwich</td><td>120</td></tr><tr><td>4</td><td>E</td><td>2022-03-01</td><td>USA</td><td>Door Dash</td><td>2022</td><td>3</td><td>1</td><td>4</td><td> Dosa</td><td>110</td></tr><tr><td>4</td><td>E</td><td>2023-03-07</td><td>USA</td><td>Door Dash</td><td>2023</td><td>3</td><td>1</td><td>4</td><td> Dosa</td><td>110</td></tr><tr><td>1</td><td>A</td><td>2023-05-05</td><td>Canada</td><td>Uber Eats</td><td>2023</td><td>5</td><td>2</td><td>1</td><td> PIZZA</td><td>100</td></tr><tr><td>2</td><td>A</td><td>2022-05-05</td><td>Canada</td><td>Uber Eats</td><td>2022</td><td>5</td><td>2</td><td>2</td><td> Chowmin</td><td>150</td></tr><tr><td>2</td><td>A</td><td>2023-05-07</td><td>Canada</td><td>Uber Eats</td><td>2023</td><td>5</td><td>2</td><td>2</td><td> Chowmin</td><td>150</td></tr><tr><td>3</td><td>A</td><td>2023-05-10</td><td>Canada</td><td>Restaurant</td><td>2023</td><td>5</td><td>2</td><td>3</td><td> sandwich</td><td>120</td></tr><tr><td>3</td><td>A</td><td>2022-05-11</td><td>Canada</td><td>Uber Eats</td><td>2022</td><td>5</td><td>2</td><td>3</td><td> sandwich</td><td>120</td></tr><tr><td>3</td><td>A</td><td>2023-05-11</td><td>Canada</td><td>Restaurant</td><td>2023</td><td>5</td><td>2</td><td>3</td><td> sandwich</td><td>120</td></tr><tr><td>2</td><td>B</td><td>2022-02-05</td><td>Canada</td><td>Uber Eats</td><td>2022</td><td>2</td><td>1</td><td>2</td><td> Chowmin</td><td>150</td></tr><tr><td>2</td><td>B</td><td>2023-05-02</td><td>Canada</td><td>Uber Eats</td><td>2023</td><td>5</td><td>2</td><td>2</td><td> Chowmin</td><td>150</td></tr><tr><td>1</td><td>B</td><td>2023-05-04</td><td>Canada</td><td>Restaurant</td><td>2023</td><td>5</td><td>2</td><td>1</td><td> PIZZA</td><td>100</td></tr><tr><td>1</td><td>B</td><td>2023-02-11</td><td>Canada</td><td>Uber Eats</td><td>2023</td><td>2</td><td>1</td><td>1</td><td> PIZZA</td><td>100</td></tr><tr><td>3</td><td>B</td><td>2023-05-16</td><td>Canada</td><td>Door Dash</td><td>2023</td><td>5</td><td>2</td><td>3</td><td> sandwich</td><td>120</td></tr><tr><td>3</td><td>B</td><td>2022-02-05</td><td>Canada</td><td>Door Dash</td><td>2022</td><td>2</td><td>1</td><td>3</td><td> sandwich</td><td>120</td></tr><tr><td>3</td><td>C</td><td>2023-05-05</td><td>Canada</td><td>Door Dash</td><td>2023</td><td>5</td><td>2</td><td>3</td><td> sandwich</td><td>120</td></tr><tr><td>1</td><td>C</td><td>2023-05-05</td><td>UK</td><td>Uber Eats</td><td>2023</td><td>5</td><td>2</td><td>1</td><td> PIZZA</td><td>100</td></tr><tr><td>6</td><td>C</td><td>2022-05-07</td><td>UK</td><td>Door Dash</td><td>2022</td><td>5</td><td>2</td><td>6</td><td> Pasta</td><td>180</td></tr><tr><td>3</td><td>D</td><td>2023-02-16</td><td>UK</td><td>Restaurant</td><td>2023</td><td>2</td><td>1</td><td>3</td><td> sandwich</td><td>120</td></tr><tr><td>5</td><td>D</td><td>2022-02-05</td><td>UK</td><td>Door Dash</td><td>2022</td><td>2</td><td>1</td><td>5</td><td> Biryani</td><td>80</td></tr><tr><td>3</td><td>E</td><td>2023-02-05</td><td>UK</td><td>Restaurant</td><td>2023</td><td>2</td><td>1</td><td>3</td><td> sandwich</td><td>120</td></tr><tr><td>4</td><td>E</td><td>2023-02-05</td><td>UK</td><td>Uber Eats</td><td>2023</td><td>2</td><td>1</td><td>4</td><td> Dosa</td><td>110</td></tr><tr><td>4</td><td>E</td><td>2023-02-07</td><td>UK</td><td>Restaurant</td><td>2023</td><td>2</td><td>1</td><td>4</td><td> Dosa</td><td>110</td></tr><tr><td>2</td><td>A</td><td>2022-05-05</td><td>UK</td><td>Uber Eats</td><td>2022</td><td>5</td><td>2</td><td>2</td><td> Chowmin</td><td>150</td></tr><tr><td>2</td><td>A</td><td>2023-05-07</td><td>UK</td><td>Uber Eats</td><td>2023</td><td>5</td><td>2</td><td>2</td><td> Chowmin</td><td>150</td></tr><tr><td>3</td><td>A</td><td>2023-05-10</td><td>UK</td><td>Restaurant</td><td>2023</td><td>5</td><td>2</td><td>3</td><td> sandwich</td><td>120</td></tr><tr><td>3</td><td>A</td><td>2022-05-11</td><td>UK</td><td>Uber Eats</td><td>2022</td><td>5</td><td>2</td><td>3</td><td> sandwich</td><td>120</td></tr><tr><td>3</td><td>A</td><td>2023-05-11</td><td>UK</td><td>Door Dash</td><td>2023</td><td>5</td><td>2</td><td>3</td><td> sandwich</td><td>120</td></tr><tr><td>2</td><td>B</td><td>2022-07-05</td><td>UK</td><td>Door Dash</td><td>2022</td><td>7</td><td>3</td><td>2</td><td> Chowmin</td><td>150</td></tr><tr><td>2</td><td>B</td><td>2023-05-02</td><td>UK</td><td>Door Dash</td><td>2023</td><td>5</td><td>2</td><td>2</td><td> Chowmin</td><td>150</td></tr><tr><td>1</td><td>B</td><td>2023-05-04</td><td>UK</td><td>Uber Eats</td><td>2023</td><td>5</td><td>2</td><td>1</td><td> PIZZA</td><td>100</td></tr><tr><td>1</td><td>B</td><td>2023-07-11</td><td>UK</td><td>Restaurant</td><td>2023</td><td>7</td><td>3</td><td>1</td><td> PIZZA</td><td>100</td></tr><tr><td>3</td><td>B</td><td>2023-05-16</td><td>UK</td><td>Uber Eats</td><td>2023</td><td>5</td><td>2</td><td>3</td><td> sandwich</td><td>120</td></tr><tr><td>3</td><td>B</td><td>2023-07-05</td><td>UK</td><td>Uber Eats</td><td>2023</td><td>7</td><td>3</td><td>3</td><td> sandwich</td><td>120</td></tr><tr><td>3</td><td>C</td><td>2023-05-05</td><td>UK</td><td>Restaurant</td><td>2023</td><td>5</td><td>2</td><td>3</td><td> sandwich</td><td>120</td></tr><tr><td>1</td><td>C</td><td>2023-05-05</td><td>USA</td><td>Uber Eats</td><td>2023</td><td>5</td><td>2</td><td>1</td><td> PIZZA</td><td>100</td></tr><tr><td>6</td><td>C</td><td>2023-05-07</td><td>USA</td><td>Door Dash</td><td>2023</td><td>5</td><td>2</td><td>6</td><td> Pasta</td><td>180</td></tr><tr><td>3</td><td>D</td><td>2022-07-16</td><td>USA</td><td>Door Dash</td><td>2022</td><td>7</td><td>3</td><td>3</td><td> sandwich</td><td>120</td></tr><tr><td>5</td><td>D</td><td>2023-07-05</td><td>USA</td><td>Door Dash</td><td>2023</td><td>7</td><td>3</td><td>5</td><td> Biryani</td><td>80</td></tr><tr><td>3</td><td>E</td><td>2023-07-05</td><td>USA</td><td>Uber Eats</td><td>2023</td><td>7</td><td>3</td><td>3</td><td> sandwich</td><td>120</td></tr><tr><td>4</td><td>E</td><td>2022-07-05</td><td>USA</td><td>Door Dash</td><td>2022</td><td>7</td><td>3</td><td>4</td><td> Dosa</td><td>110</td></tr><tr><td>4</td><td>E</td><td>2023-07-07</td><td>USA</td><td>Door Dash</td><td>2023</td><td>7</td><td>3</td><td>4</td><td> Dosa</td><td>110</td></tr><tr><td>1</td><td>A</td><td>2023-06-06</td><td>Canada</td><td>Uber Eats</td><td>2023</td><td>6</td><td>2</td><td>1</td><td> PIZZA</td><td>100</td></tr><tr><td>2</td><td>A</td><td>2022-06-06</td><td>Canada</td><td>Uber Eats</td><td>2022</td><td>6</td><td>2</td><td>2</td><td> Chowmin</td><td>150</td></tr><tr><td>2</td><td>A</td><td>2023-06-11</td><td>Canada</td><td>Uber Eats</td><td>2023</td><td>6</td><td>2</td><td>2</td><td> Chowmin</td><td>150</td></tr><tr><td>3</td><td>A</td><td>2023-06-10</td><td>Canada</td><td>Restaurant</td><td>2023</td><td>6</td><td>2</td><td>3</td><td> sandwich</td><td>120</td></tr><tr><td>3</td><td>A</td><td>2022-06-11</td><td>Canada</td><td>Uber Eats</td><td>2022</td><td>6</td><td>2</td><td>3</td><td> sandwich</td><td>120</td></tr><tr><td>3</td><td>A</td><td>2023-06-11</td><td>Canada</td><td>Restaurant</td><td>2023</td><td>6</td><td>2</td><td>3</td><td> sandwich</td><td>120</td></tr><tr><td>2</td><td>B</td><td>2022-02-06</td><td>Canada</td><td>Uber Eats</td><td>2022</td><td>2</td><td>1</td><td>2</td><td> Chowmin</td><td>150</td></tr><tr><td>2</td><td>B</td><td>2023-06-02</td><td>Canada</td><td>Uber Eats</td><td>2023</td><td>6</td><td>2</td><td>2</td><td> Chowmin</td><td>150</td></tr><tr><td>1</td><td>B</td><td>2023-06-04</td><td>Canada</td><td>Restaurant</td><td>2023</td><td>6</td><td>2</td><td>1</td><td> PIZZA</td><td>100</td></tr><tr><td>1</td><td>B</td><td>2023-02-11</td><td>Canada</td><td>Uber Eats</td><td>2023</td><td>2</td><td>1</td><td>1</td><td> PIZZA</td><td>100</td></tr><tr><td>3</td><td>B</td><td>2023-06-16</td><td>Canada</td><td>Door Dash</td><td>2023</td><td>6</td><td>2</td><td>3</td><td> sandwich</td><td>120</td></tr><tr><td>3</td><td>B</td><td>2022-02-06</td><td>Canada</td><td>Door Dash</td><td>2022</td><td>2</td><td>1</td><td>3</td><td> sandwich</td><td>120</td></tr><tr><td>3</td><td>C</td><td>2023-06-06</td><td>Canada</td><td>Door Dash</td><td>2023</td><td>6</td><td>2</td><td>3</td><td> sandwich</td><td>120</td></tr><tr><td>1</td><td>C</td><td>2023-06-06</td><td>UK</td><td>Uber Eats</td><td>2023</td><td>6</td><td>2</td><td>1</td><td> PIZZA</td><td>100</td></tr><tr><td>6</td><td>C</td><td>2022-06-11</td><td>UK</td><td>Door Dash</td><td>2022</td><td>6</td><td>2</td><td>6</td><td> Pasta</td><td>180</td></tr><tr><td>3</td><td>D</td><td>2023-02-16</td><td>UK</td><td>Restaurant</td><td>2023</td><td>2</td><td>1</td><td>3</td><td> sandwich</td><td>120</td></tr><tr><td>5</td><td>D</td><td>2022-02-06</td><td>UK</td><td>Door Dash</td><td>2022</td><td>2</td><td>1</td><td>5</td><td> Biryani</td><td>80</td></tr><tr><td>3</td><td>E</td><td>2023-02-06</td><td>UK</td><td>Restaurant</td><td>2023</td><td>2</td><td>1</td><td>3</td><td> sandwich</td><td>120</td></tr><tr><td>4</td><td>E</td><td>2023-02-06</td><td>UK</td><td>Uber Eats</td><td>2023</td><td>2</td><td>1</td><td>4</td><td> Dosa</td><td>110</td></tr><tr><td>4</td><td>E</td><td>2023-02-11</td><td>UK</td><td>Restaurant</td><td>2023</td><td>2</td><td>1</td><td>4</td><td> Dosa</td><td>110</td></tr><tr><td>2</td><td>A</td><td>2022-06-06</td><td>UK</td><td>Uber Eats</td><td>2022</td><td>6</td><td>2</td><td>2</td><td> Chowmin</td><td>150</td></tr><tr><td>2</td><td>A</td><td>2023-06-11</td><td>UK</td><td>Uber Eats</td><td>2023</td><td>6</td><td>2</td><td>2</td><td> Chowmin</td><td>150</td></tr><tr><td>3</td><td>A</td><td>2023-06-10</td><td>UK</td><td>Restaurant</td><td>2023</td><td>6</td><td>2</td><td>3</td><td> sandwich</td><td>120</td></tr><tr><td>3</td><td>A</td><td>2022-06-11</td><td>UK</td><td>Uber Eats</td><td>2022</td><td>6</td><td>2</td><td>3</td><td> sandwich</td><td>120</td></tr><tr><td>3</td><td>A</td><td>2023-06-11</td><td>UK</td><td>Door Dash</td><td>2023</td><td>6</td><td>2</td><td>3</td><td> sandwich</td><td>120</td></tr><tr><td>2</td><td>B</td><td>2022-11-06</td><td>UK</td><td>Door Dash</td><td>2022</td><td>11</td><td>4</td><td>2</td><td> Chowmin</td><td>150</td></tr><tr><td>2</td><td>B</td><td>2023-06-02</td><td>UK</td><td>Door Dash</td><td>2023</td><td>6</td><td>2</td><td>2</td><td> Chowmin</td><td>150</td></tr><tr><td>1</td><td>B</td><td>2023-06-04</td><td>UK</td><td>Uber Eats</td><td>2023</td><td>6</td><td>2</td><td>1</td><td> PIZZA</td><td>100</td></tr><tr><td>1</td><td>B</td><td>2023-11-11</td><td>UK</td><td>Restaurant</td><td>2023</td><td>11</td><td>4</td><td>1</td><td> PIZZA</td><td>100</td></tr><tr><td>3</td><td>B</td><td>2023-06-16</td><td>UK</td><td>Uber Eats</td><td>2023</td><td>6</td><td>2</td><td>3</td><td> sandwich</td><td>120</td></tr><tr><td>3</td><td>B</td><td>2023-11-06</td><td>UK</td><td>Uber Eats</td><td>2023</td><td>11</td><td>4</td><td>3</td><td> sandwich</td><td>120</td></tr><tr><td>3</td><td>C</td><td>2023-06-06</td><td>UK</td><td>Restaurant</td><td>2023</td><td>6</td><td>2</td><td>3</td><td> sandwich</td><td>120</td></tr><tr><td>1</td><td>C</td><td>2023-06-06</td><td>USA</td><td>Uber Eats</td><td>2023</td><td>6</td><td>2</td><td>1</td><td> PIZZA</td><td>100</td></tr><tr><td>6</td><td>C</td><td>2023-06-11</td><td>USA</td><td>Door Dash</td><td>2023</td><td>6</td><td>2</td><td>6</td><td> Pasta</td><td>180</td></tr><tr><td>3</td><td>D</td><td>2022-11-16</td><td>USA</td><td>Door Dash</td><td>2022</td><td>11</td><td>4</td><td>3</td><td> sandwich</td><td>120</td></tr><tr><td>5</td><td>D</td><td>2023-11-06</td><td>USA</td><td>Door Dash</td><td>2023</td><td>11</td><td>4</td><td>5</td><td> Biryani</td><td>80</td></tr><tr><td>3</td><td>E</td><td>2023-11-06</td><td>USA</td><td>Uber Eats</td><td>2023</td><td>11</td><td>4</td><td>3</td><td> sandwich</td><td>120</td></tr><tr><td>4</td><td>E</td><td>2022-11-06</td><td>USA</td><td>Door Dash</td><td>2022</td><td>11</td><td>4</td><td>4</td><td> Dosa</td><td>110</td></tr><tr><td>4</td><td>E</td><td>2023-11-11</td><td>USA</td><td>Door Dash</td><td>2023</td><td>11</td><td>4</td><td>4</td><td> Dosa</td><td>110</td></tr></tbody></table></div>"
      ]
     },
     "metadata": {
      "application/vnd.databricks.v1+output": {
       "addedWidgets": {},
       "aggData": [],
       "aggError": "",
       "aggOverflow": false,
       "aggSchema": [],
       "aggSeriesLimitReached": false,
       "aggType": "",
       "arguments": {},
       "columnCustomDisplayInfos": {},
       "data": [
        [
         1,
         "A",
         "2023-01-01",
         "Canada",
         "Uber Eats",
         2023,
         1,
         1,
         1,
         " PIZZA",
         100
        ],
        [
         2,
         "A",
         "2022-01-01",
         "Canada",
         "Uber Eats",
         2022,
         1,
         1,
         2,
         " Chowmin",
         150
        ],
        [
         2,
         "A",
         "2023-01-07",
         "Canada",
         "Uber Eats",
         2023,
         1,
         1,
         2,
         " Chowmin",
         150
        ],
        [
         3,
         "A",
         "2023-01-10",
         "Canada",
         "Restaurant",
         2023,
         1,
         1,
         3,
         " sandwich",
         120
        ],
        [
         3,
         "A",
         "2022-01-11",
         "Canada",
         "Uber Eats",
         2022,
         1,
         1,
         3,
         " sandwich",
         120
        ],
        [
         3,
         "A",
         "2023-01-11",
         "Canada",
         "Restaurant",
         2023,
         1,
         1,
         3,
         " sandwich",
         120
        ],
        [
         2,
         "B",
         "2022-02-01",
         "Canada",
         "Uber Eats",
         2022,
         2,
         1,
         2,
         " Chowmin",
         150
        ],
        [
         2,
         "B",
         "2023-01-02",
         "Canada",
         "Uber Eats",
         2023,
         1,
         1,
         2,
         " Chowmin",
         150
        ],
        [
         1,
         "B",
         "2023-01-04",
         "Canada",
         "Restaurant",
         2023,
         1,
         1,
         1,
         " PIZZA",
         100
        ],
        [
         1,
         "B",
         "2023-02-11",
         "Canada",
         "Uber Eats",
         2023,
         2,
         1,
         1,
         " PIZZA",
         100
        ],
        [
         3,
         "B",
         "2023-01-16",
         "Canada",
         "Door Dash",
         2023,
         1,
         1,
         3,
         " sandwich",
         120
        ],
        [
         3,
         "B",
         "2022-02-01",
         "Canada",
         "Door Dash",
         2022,
         2,
         1,
         3,
         " sandwich",
         120
        ],
        [
         3,
         "C",
         "2023-01-01",
         "Canada",
         "Door Dash",
         2023,
         1,
         1,
         3,
         " sandwich",
         120
        ],
        [
         1,
         "C",
         "2023-01-01",
         "UK",
         "Uber Eats",
         2023,
         1,
         1,
         1,
         " PIZZA",
         100
        ],
        [
         6,
         "C",
         "2022-01-07",
         "UK",
         "Door Dash",
         2022,
         1,
         1,
         6,
         " Pasta",
         180
        ],
        [
         3,
         "D",
         "2023-02-16",
         "UK",
         "Restaurant",
         2023,
         2,
         1,
         3,
         " sandwich",
         120
        ],
        [
         5,
         "D",
         "2022-02-01",
         "UK",
         "Door Dash",
         2022,
         2,
         1,
         5,
         " Biryani",
         80
        ],
        [
         3,
         "E",
         "2023-02-01",
         "UK",
         "Restaurant",
         2023,
         2,
         1,
         3,
         " sandwich",
         120
        ],
        [
         4,
         "E",
         "2023-02-01",
         "UK",
         "Uber Eats",
         2023,
         2,
         1,
         4,
         " Dosa",
         110
        ],
        [
         4,
         "E",
         "2023-02-07",
         "UK",
         "Restaurant",
         2023,
         2,
         1,
         4,
         " Dosa",
         110
        ],
        [
         2,
         "A",
         "2022-01-01",
         "UK",
         "Uber Eats",
         2022,
         1,
         1,
         2,
         " Chowmin",
         150
        ],
        [
         2,
         "A",
         "2023-01-07",
         "UK",
         "Uber Eats",
         2023,
         1,
         1,
         2,
         " Chowmin",
         150
        ],
        [
         3,
         "A",
         "2023-01-10",
         "UK",
         "Restaurant",
         2023,
         1,
         1,
         3,
         " sandwich",
         120
        ],
        [
         3,
         "A",
         "2022-01-11",
         "UK",
         "Uber Eats",
         2022,
         1,
         1,
         3,
         " sandwich",
         120
        ],
        [
         3,
         "A",
         "2023-01-11",
         "UK",
         "Door Dash",
         2023,
         1,
         1,
         3,
         " sandwich",
         120
        ],
        [
         2,
         "B",
         "2022-03-01",
         "UK",
         "Door Dash",
         2022,
         3,
         1,
         2,
         " Chowmin",
         150
        ],
        [
         2,
         "B",
         "2023-01-02",
         "UK",
         "Door Dash",
         2023,
         1,
         1,
         2,
         " Chowmin",
         150
        ],
        [
         1,
         "B",
         "2023-01-04",
         "UK",
         "Uber Eats",
         2023,
         1,
         1,
         1,
         " PIZZA",
         100
        ],
        [
         1,
         "B",
         "2023-03-11",
         "UK",
         "Restaurant",
         2023,
         3,
         1,
         1,
         " PIZZA",
         100
        ],
        [
         3,
         "B",
         "2023-01-16",
         "UK",
         "Uber Eats",
         2023,
         1,
         1,
         3,
         " sandwich",
         120
        ],
        [
         3,
         "B",
         "2023-03-01",
         "UK",
         "Uber Eats",
         2023,
         3,
         1,
         3,
         " sandwich",
         120
        ],
        [
         3,
         "C",
         "2023-01-01",
         "UK",
         "Restaurant",
         2023,
         1,
         1,
         3,
         " sandwich",
         120
        ],
        [
         1,
         "C",
         "2023-01-01",
         "USA",
         "Uber Eats",
         2023,
         1,
         1,
         1,
         " PIZZA",
         100
        ],
        [
         6,
         "C",
         "2023-01-07",
         "USA",
         "Door Dash",
         2023,
         1,
         1,
         6,
         " Pasta",
         180
        ],
        [
         3,
         "D",
         "2022-03-16",
         "USA",
         "Door Dash",
         2022,
         3,
         1,
         3,
         " sandwich",
         120
        ],
        [
         5,
         "D",
         "2023-03-01",
         "USA",
         "Door Dash",
         2023,
         3,
         1,
         5,
         " Biryani",
         80
        ],
        [
         3,
         "E",
         "2023-03-01",
         "USA",
         "Uber Eats",
         2023,
         3,
         1,
         3,
         " sandwich",
         120
        ],
        [
         4,
         "E",
         "2022-03-01",
         "USA",
         "Door Dash",
         2022,
         3,
         1,
         4,
         " Dosa",
         110
        ],
        [
         4,
         "E",
         "2023-03-07",
         "USA",
         "Door Dash",
         2023,
         3,
         1,
         4,
         " Dosa",
         110
        ],
        [
         1,
         "A",
         "2023-05-05",
         "Canada",
         "Uber Eats",
         2023,
         5,
         2,
         1,
         " PIZZA",
         100
        ],
        [
         2,
         "A",
         "2022-05-05",
         "Canada",
         "Uber Eats",
         2022,
         5,
         2,
         2,
         " Chowmin",
         150
        ],
        [
         2,
         "A",
         "2023-05-07",
         "Canada",
         "Uber Eats",
         2023,
         5,
         2,
         2,
         " Chowmin",
         150
        ],
        [
         3,
         "A",
         "2023-05-10",
         "Canada",
         "Restaurant",
         2023,
         5,
         2,
         3,
         " sandwich",
         120
        ],
        [
         3,
         "A",
         "2022-05-11",
         "Canada",
         "Uber Eats",
         2022,
         5,
         2,
         3,
         " sandwich",
         120
        ],
        [
         3,
         "A",
         "2023-05-11",
         "Canada",
         "Restaurant",
         2023,
         5,
         2,
         3,
         " sandwich",
         120
        ],
        [
         2,
         "B",
         "2022-02-05",
         "Canada",
         "Uber Eats",
         2022,
         2,
         1,
         2,
         " Chowmin",
         150
        ],
        [
         2,
         "B",
         "2023-05-02",
         "Canada",
         "Uber Eats",
         2023,
         5,
         2,
         2,
         " Chowmin",
         150
        ],
        [
         1,
         "B",
         "2023-05-04",
         "Canada",
         "Restaurant",
         2023,
         5,
         2,
         1,
         " PIZZA",
         100
        ],
        [
         1,
         "B",
         "2023-02-11",
         "Canada",
         "Uber Eats",
         2023,
         2,
         1,
         1,
         " PIZZA",
         100
        ],
        [
         3,
         "B",
         "2023-05-16",
         "Canada",
         "Door Dash",
         2023,
         5,
         2,
         3,
         " sandwich",
         120
        ],
        [
         3,
         "B",
         "2022-02-05",
         "Canada",
         "Door Dash",
         2022,
         2,
         1,
         3,
         " sandwich",
         120
        ],
        [
         3,
         "C",
         "2023-05-05",
         "Canada",
         "Door Dash",
         2023,
         5,
         2,
         3,
         " sandwich",
         120
        ],
        [
         1,
         "C",
         "2023-05-05",
         "UK",
         "Uber Eats",
         2023,
         5,
         2,
         1,
         " PIZZA",
         100
        ],
        [
         6,
         "C",
         "2022-05-07",
         "UK",
         "Door Dash",
         2022,
         5,
         2,
         6,
         " Pasta",
         180
        ],
        [
         3,
         "D",
         "2023-02-16",
         "UK",
         "Restaurant",
         2023,
         2,
         1,
         3,
         " sandwich",
         120
        ],
        [
         5,
         "D",
         "2022-02-05",
         "UK",
         "Door Dash",
         2022,
         2,
         1,
         5,
         " Biryani",
         80
        ],
        [
         3,
         "E",
         "2023-02-05",
         "UK",
         "Restaurant",
         2023,
         2,
         1,
         3,
         " sandwich",
         120
        ],
        [
         4,
         "E",
         "2023-02-05",
         "UK",
         "Uber Eats",
         2023,
         2,
         1,
         4,
         " Dosa",
         110
        ],
        [
         4,
         "E",
         "2023-02-07",
         "UK",
         "Restaurant",
         2023,
         2,
         1,
         4,
         " Dosa",
         110
        ],
        [
         2,
         "A",
         "2022-05-05",
         "UK",
         "Uber Eats",
         2022,
         5,
         2,
         2,
         " Chowmin",
         150
        ],
        [
         2,
         "A",
         "2023-05-07",
         "UK",
         "Uber Eats",
         2023,
         5,
         2,
         2,
         " Chowmin",
         150
        ],
        [
         3,
         "A",
         "2023-05-10",
         "UK",
         "Restaurant",
         2023,
         5,
         2,
         3,
         " sandwich",
         120
        ],
        [
         3,
         "A",
         "2022-05-11",
         "UK",
         "Uber Eats",
         2022,
         5,
         2,
         3,
         " sandwich",
         120
        ],
        [
         3,
         "A",
         "2023-05-11",
         "UK",
         "Door Dash",
         2023,
         5,
         2,
         3,
         " sandwich",
         120
        ],
        [
         2,
         "B",
         "2022-07-05",
         "UK",
         "Door Dash",
         2022,
         7,
         3,
         2,
         " Chowmin",
         150
        ],
        [
         2,
         "B",
         "2023-05-02",
         "UK",
         "Door Dash",
         2023,
         5,
         2,
         2,
         " Chowmin",
         150
        ],
        [
         1,
         "B",
         "2023-05-04",
         "UK",
         "Uber Eats",
         2023,
         5,
         2,
         1,
         " PIZZA",
         100
        ],
        [
         1,
         "B",
         "2023-07-11",
         "UK",
         "Restaurant",
         2023,
         7,
         3,
         1,
         " PIZZA",
         100
        ],
        [
         3,
         "B",
         "2023-05-16",
         "UK",
         "Uber Eats",
         2023,
         5,
         2,
         3,
         " sandwich",
         120
        ],
        [
         3,
         "B",
         "2023-07-05",
         "UK",
         "Uber Eats",
         2023,
         7,
         3,
         3,
         " sandwich",
         120
        ],
        [
         3,
         "C",
         "2023-05-05",
         "UK",
         "Restaurant",
         2023,
         5,
         2,
         3,
         " sandwich",
         120
        ],
        [
         1,
         "C",
         "2023-05-05",
         "USA",
         "Uber Eats",
         2023,
         5,
         2,
         1,
         " PIZZA",
         100
        ],
        [
         6,
         "C",
         "2023-05-07",
         "USA",
         "Door Dash",
         2023,
         5,
         2,
         6,
         " Pasta",
         180
        ],
        [
         3,
         "D",
         "2022-07-16",
         "USA",
         "Door Dash",
         2022,
         7,
         3,
         3,
         " sandwich",
         120
        ],
        [
         5,
         "D",
         "2023-07-05",
         "USA",
         "Door Dash",
         2023,
         7,
         3,
         5,
         " Biryani",
         80
        ],
        [
         3,
         "E",
         "2023-07-05",
         "USA",
         "Uber Eats",
         2023,
         7,
         3,
         3,
         " sandwich",
         120
        ],
        [
         4,
         "E",
         "2022-07-05",
         "USA",
         "Door Dash",
         2022,
         7,
         3,
         4,
         " Dosa",
         110
        ],
        [
         4,
         "E",
         "2023-07-07",
         "USA",
         "Door Dash",
         2023,
         7,
         3,
         4,
         " Dosa",
         110
        ],
        [
         1,
         "A",
         "2023-06-06",
         "Canada",
         "Uber Eats",
         2023,
         6,
         2,
         1,
         " PIZZA",
         100
        ],
        [
         2,
         "A",
         "2022-06-06",
         "Canada",
         "Uber Eats",
         2022,
         6,
         2,
         2,
         " Chowmin",
         150
        ],
        [
         2,
         "A",
         "2023-06-11",
         "Canada",
         "Uber Eats",
         2023,
         6,
         2,
         2,
         " Chowmin",
         150
        ],
        [
         3,
         "A",
         "2023-06-10",
         "Canada",
         "Restaurant",
         2023,
         6,
         2,
         3,
         " sandwich",
         120
        ],
        [
         3,
         "A",
         "2022-06-11",
         "Canada",
         "Uber Eats",
         2022,
         6,
         2,
         3,
         " sandwich",
         120
        ],
        [
         3,
         "A",
         "2023-06-11",
         "Canada",
         "Restaurant",
         2023,
         6,
         2,
         3,
         " sandwich",
         120
        ],
        [
         2,
         "B",
         "2022-02-06",
         "Canada",
         "Uber Eats",
         2022,
         2,
         1,
         2,
         " Chowmin",
         150
        ],
        [
         2,
         "B",
         "2023-06-02",
         "Canada",
         "Uber Eats",
         2023,
         6,
         2,
         2,
         " Chowmin",
         150
        ],
        [
         1,
         "B",
         "2023-06-04",
         "Canada",
         "Restaurant",
         2023,
         6,
         2,
         1,
         " PIZZA",
         100
        ],
        [
         1,
         "B",
         "2023-02-11",
         "Canada",
         "Uber Eats",
         2023,
         2,
         1,
         1,
         " PIZZA",
         100
        ],
        [
         3,
         "B",
         "2023-06-16",
         "Canada",
         "Door Dash",
         2023,
         6,
         2,
         3,
         " sandwich",
         120
        ],
        [
         3,
         "B",
         "2022-02-06",
         "Canada",
         "Door Dash",
         2022,
         2,
         1,
         3,
         " sandwich",
         120
        ],
        [
         3,
         "C",
         "2023-06-06",
         "Canada",
         "Door Dash",
         2023,
         6,
         2,
         3,
         " sandwich",
         120
        ],
        [
         1,
         "C",
         "2023-06-06",
         "UK",
         "Uber Eats",
         2023,
         6,
         2,
         1,
         " PIZZA",
         100
        ],
        [
         6,
         "C",
         "2022-06-11",
         "UK",
         "Door Dash",
         2022,
         6,
         2,
         6,
         " Pasta",
         180
        ],
        [
         3,
         "D",
         "2023-02-16",
         "UK",
         "Restaurant",
         2023,
         2,
         1,
         3,
         " sandwich",
         120
        ],
        [
         5,
         "D",
         "2022-02-06",
         "UK",
         "Door Dash",
         2022,
         2,
         1,
         5,
         " Biryani",
         80
        ],
        [
         3,
         "E",
         "2023-02-06",
         "UK",
         "Restaurant",
         2023,
         2,
         1,
         3,
         " sandwich",
         120
        ],
        [
         4,
         "E",
         "2023-02-06",
         "UK",
         "Uber Eats",
         2023,
         2,
         1,
         4,
         " Dosa",
         110
        ],
        [
         4,
         "E",
         "2023-02-11",
         "UK",
         "Restaurant",
         2023,
         2,
         1,
         4,
         " Dosa",
         110
        ],
        [
         2,
         "A",
         "2022-06-06",
         "UK",
         "Uber Eats",
         2022,
         6,
         2,
         2,
         " Chowmin",
         150
        ],
        [
         2,
         "A",
         "2023-06-11",
         "UK",
         "Uber Eats",
         2023,
         6,
         2,
         2,
         " Chowmin",
         150
        ],
        [
         3,
         "A",
         "2023-06-10",
         "UK",
         "Restaurant",
         2023,
         6,
         2,
         3,
         " sandwich",
         120
        ],
        [
         3,
         "A",
         "2022-06-11",
         "UK",
         "Uber Eats",
         2022,
         6,
         2,
         3,
         " sandwich",
         120
        ],
        [
         3,
         "A",
         "2023-06-11",
         "UK",
         "Door Dash",
         2023,
         6,
         2,
         3,
         " sandwich",
         120
        ],
        [
         2,
         "B",
         "2022-11-06",
         "UK",
         "Door Dash",
         2022,
         11,
         4,
         2,
         " Chowmin",
         150
        ],
        [
         2,
         "B",
         "2023-06-02",
         "UK",
         "Door Dash",
         2023,
         6,
         2,
         2,
         " Chowmin",
         150
        ],
        [
         1,
         "B",
         "2023-06-04",
         "UK",
         "Uber Eats",
         2023,
         6,
         2,
         1,
         " PIZZA",
         100
        ],
        [
         1,
         "B",
         "2023-11-11",
         "UK",
         "Restaurant",
         2023,
         11,
         4,
         1,
         " PIZZA",
         100
        ],
        [
         3,
         "B",
         "2023-06-16",
         "UK",
         "Uber Eats",
         2023,
         6,
         2,
         3,
         " sandwich",
         120
        ],
        [
         3,
         "B",
         "2023-11-06",
         "UK",
         "Uber Eats",
         2023,
         11,
         4,
         3,
         " sandwich",
         120
        ],
        [
         3,
         "C",
         "2023-06-06",
         "UK",
         "Restaurant",
         2023,
         6,
         2,
         3,
         " sandwich",
         120
        ],
        [
         1,
         "C",
         "2023-06-06",
         "USA",
         "Uber Eats",
         2023,
         6,
         2,
         1,
         " PIZZA",
         100
        ],
        [
         6,
         "C",
         "2023-06-11",
         "USA",
         "Door Dash",
         2023,
         6,
         2,
         6,
         " Pasta",
         180
        ],
        [
         3,
         "D",
         "2022-11-16",
         "USA",
         "Door Dash",
         2022,
         11,
         4,
         3,
         " sandwich",
         120
        ],
        [
         5,
         "D",
         "2023-11-06",
         "USA",
         "Door Dash",
         2023,
         11,
         4,
         5,
         " Biryani",
         80
        ],
        [
         3,
         "E",
         "2023-11-06",
         "USA",
         "Uber Eats",
         2023,
         11,
         4,
         3,
         " sandwich",
         120
        ],
        [
         4,
         "E",
         "2022-11-06",
         "USA",
         "Door Dash",
         2022,
         11,
         4,
         4,
         " Dosa",
         110
        ],
        [
         4,
         "E",
         "2023-11-11",
         "USA",
         "Door Dash",
         2023,
         11,
         4,
         4,
         " Dosa",
         110
        ]
       ],
       "datasetInfos": [],
       "dbfsResultPath": null,
       "isJsonSchema": true,
       "metadata": {},
       "overflow": false,
       "plotOptions": {
        "customPlotOptions": {},
        "displayType": "table",
        "pivotAggregation": null,
        "pivotColumns": null,
        "xColumns": null,
        "yColumns": null
       },
       "removedWidgets": [],
       "schema": [
        {
         "metadata": "{}",
         "name": "ID",
         "type": "\"integer\""
        },
        {
         "metadata": "{}",
         "name": "Customer_ID",
         "type": "\"string\""
        },
        {
         "metadata": "{}",
         "name": "Order_Date",
         "type": "\"date\""
        },
        {
         "metadata": "{}",
         "name": "location",
         "type": "\"string\""
        },
        {
         "metadata": "{}",
         "name": "source_order",
         "type": "\"string\""
        },
        {
         "metadata": "{}",
         "name": "order_year",
         "type": "\"integer\""
        },
        {
         "metadata": "{}",
         "name": "order_month",
         "type": "\"integer\""
        },
        {
         "metadata": "{}",
         "name": "order_quarter",
         "type": "\"integer\""
        },
        {
         "metadata": "{}",
         "name": "ID",
         "type": "\"integer\""
        },
        {
         "metadata": "{}",
         "name": "Item_name",
         "type": "\"string\""
        },
        {
         "metadata": "{}",
         "name": "price",
         "type": "\"integer\""
        }
       ],
       "type": "table"
      }
     },
     "output_type": "display_data"
    }
   ],
   "source": [
    "joined_data = sales_df.join(menu_df, sales_df.ID == menu_df.ID, \"left\")\n",
    "cleaned_data = joined_data.na.drop(subset=[\"Customer_ID\", \"Order_Date\", \"location\", \"source_order\",\"Item_name\",\"price\"])\n",
    "from pyspark.sql.functions import month, year, quarter\n",
    "sales_df=sales_df.withColumn(\"order_year\", year(sales_df.Order_Date))\n",
    "sales_df=sales_df.withColumn(\"order_month\", month(sales_df.Order_Date))\n",
    "sales_df=sales_df.withColumn(\"order_quarter\", quarter(sales_df.Order_Date))\n",
    "display(cleaned_data)"
   ]
  },
  {
   "cell_type": "code",
   "execution_count": 0,
   "metadata": {
    "application/vnd.databricks.v1+cell": {
     "cellMetadata": {
      "byteLimit": 2048000,
      "rowLimit": 10000
     },
     "inputWidgets": {},
     "nuid": "ee1ea7e1-64ae-421b-bfe7-ee770d3e10d9",
     "showTitle": true,
     "title": "1. Total Amount Spent on Each Food Category"
    }
   },
   "outputs": [
    {
     "output_type": "display_data",
     "data": {
      "text/html": [
       "<style scoped>\n",
       "  .table-result-container {\n",
       "    max-height: 300px;\n",
       "    overflow: auto;\n",
       "  }\n",
       "  table, th, td {\n",
       "    border: 1px solid black;\n",
       "    border-collapse: collapse;\n",
       "  }\n",
       "  th, td {\n",
       "    padding: 5px;\n",
       "  }\n",
       "  th {\n",
       "    text-align: left;\n",
       "  }\n",
       "</style><div class='table-result-container'><table class='table-result'><thead style='background-color: white'><tr><th>Item_name</th><th>TotalAmount</th></tr></thead><tbody><tr><td> Pasta</td><td>1080</td></tr><tr><td> PIZZA</td><td>2100</td></tr><tr><td> sandwich</td><td>5760</td></tr><tr><td> Biryani</td><td>480</td></tr><tr><td> Chowmin</td><td>3600</td></tr><tr><td> Dosa</td><td>1320</td></tr></tbody></table></div>"
      ]
     },
     "metadata": {
      "application/vnd.databricks.v1+output": {
       "addedWidgets": {},
       "aggData": [],
       "aggError": "",
       "aggOverflow": false,
       "aggSchema": [],
       "aggSeriesLimitReached": false,
       "aggType": "",
       "arguments": {},
       "columnCustomDisplayInfos": {},
       "data": [
        [
         " Pasta",
         1080
        ],
        [
         " PIZZA",
         2100
        ],
        [
         " sandwich",
         5760
        ],
        [
         " Biryani",
         480
        ],
        [
         " Chowmin",
         3600
        ],
        [
         " Dosa",
         1320
        ]
       ],
       "datasetInfos": [],
       "dbfsResultPath": null,
       "isJsonSchema": true,
       "metadata": {},
       "overflow": false,
       "plotOptions": {
        "customPlotOptions": {},
        "displayType": "table",
        "pivotAggregation": null,
        "pivotColumns": null,
        "xColumns": null,
        "yColumns": null
       },
       "removedWidgets": [],
       "schema": [
        {
         "metadata": "{}",
         "name": "Item_name",
         "type": "\"string\""
        },
        {
         "metadata": "{}",
         "name": "TotalAmount",
         "type": "\"long\""
        }
       ],
       "type": "table"
      }
     },
     "output_type": "display_data"
    },
    {
     "output_type": "display_data",
     "data": {
      "text/plain": [
       "Databricks visualization. Run in Databricks to view."
      ]
     },
     "metadata": {
      "application/vnd.databricks.v1.subcommand+json": {
       "baseErrorDetails": null,
       "bindings": {},
       "collapsed": false,
       "command": "%python\n__backend_agg_display_orig = display\n__backend_agg_dfs = []\ndef __backend_agg_display_new(df):\n    __backend_agg_df_modules = [\"pandas.core.frame\", \"databricks.koalas.frame\", \"pyspark.sql.dataframe\", \"pyspark.pandas.frame\", \"pyspark.sql.connect.dataframe\"]\n    if (type(df).__module__ in __backend_agg_df_modules and type(df).__name__ == 'DataFrame') or isinstance(df, list):\n        __backend_agg_dfs.append(df)\n\ndisplay = __backend_agg_display_new\n\ndef __backend_agg_user_code_fn():\n    import base64\n    exec(base64.standard_b64decode(\"ZnJvbSBweXNwYXJrLnNxbC5mdW5jdGlvbnMgaW1wb3J0IHN1bQpjYXRlZ29yeV90b3RhbHMgPSBjbGVhbmVkX2RhdGEuZ3JvdXBCeSgiSXRlbV9uYW1lIikuYWdnKHN1bSgicHJpY2UiKS5hbGlhcygiVG90YWxBbW91bnQiKSkKIyBUbyByZW1vdmUgbnVsbCB2YWx1ZQojY2xlYW5lZF9kYXRhID0gY2F0ZWdvcnlfdG90YWxzLm5hLmRyb3Aoc3Vic2V0PVsiSXRlbV9uYW1lIiwgIlRvdGFsQW1vdW50Il0pCmRpc3BsYXkoY2F0ZWdvcnlfdG90YWxzKQojZGlzcGxheShjbGVhbmVkX2RhdGEp\").decode())\n\ntry:\n    # run user code\n    __backend_agg_user_code_fn()\n\n    #reset display function\n    display = __backend_agg_display_orig\n\n    if len(__backend_agg_dfs) > 0:\n        # create a temp view\n        if type(__backend_agg_dfs[0]).__module__ == \"databricks.koalas.frame\":\n            # koalas dataframe\n            __backend_agg_dfs[0].to_spark().createOrReplaceTempView(\"DatabricksViewbef54f1\")\n        elif type(__backend_agg_dfs[0]).__module__ == \"pandas.core.frame\" or isinstance(__backend_agg_dfs[0], list):\n            # pandas dataframe\n            spark.createDataFrame(__backend_agg_dfs[0]).createOrReplaceTempView(\"DatabricksViewbef54f1\")\n        else:\n            __backend_agg_dfs[0].createOrReplaceTempView(\"DatabricksViewbef54f1\")\n        #run backend agg\n        display(spark.sql(\"\"\"WITH q AS (select * from DatabricksViewbef54f1) SELECT `Item_name`,SUM(`TotalAmount`) `column_6c0eeba632` FROM q GROUP BY `Item_name`\"\"\"))\n    else:\n        displayHTML(\"dataframe no longer exists. If you're using dataframe.display(), use display(dataframe) instead.\")\n\n\nfinally:\n    spark.sql(\"drop view if exists DatabricksViewbef54f1\")\n    display = __backend_agg_display_orig\n    del __backend_agg_display_new\n    del __backend_agg_display_orig\n    del __backend_agg_dfs\n    del __backend_agg_user_code_fn\n\n",
       "commandTitle": "Amount Spent on Each Food Category",
       "commandType": "auto",
       "commandVersion": 0,
       "commentThread": [],
       "commentsVisible": false,
       "contentSha256Hex": null,
       "customPlotOptions": {
        "redashChart": [
         {
          "key": "type",
          "value": "CHART"
         },
         {
          "key": "options",
          "value": {
           "alignYAxesAtZero": true,
           "coefficient": 1,
           "columnConfigurationMap": {
            "x": {
             "column": "Item_name",
             "id": "column_6c0eeba630"
            },
            "y": [
             {
              "column": "TotalAmount",
              "id": "column_6c0eeba637",
              "transform": "SUM"
             }
            ]
           },
           "dateTimeFormat": "DD/MM/YYYY HH:mm",
           "direction": {
            "type": "counterclockwise"
           },
           "error_y": {
            "type": "data",
            "visible": true
           },
           "globalSeriesType": "column",
           "isAggregationOn": true,
           "legend": {
            "traceorder": "normal"
           },
           "missingValuesAsZero": true,
           "numberFormat": "0,0.[00000]",
           "percentFormat": "0[.]00%",
           "series": {
            "error_y": {
             "type": "data",
             "visible": true
            },
            "stacking": null
           },
           "seriesOptions": {
            "column_6c0eeba617": {
             "name": "TotalAmount",
             "type": "column",
             "yAxis": 0
            },
            "column_6c0eeba620": {
             "type": "column",
             "yAxis": 0
            },
            "column_6c0eeba624": {
             "type": "column",
             "yAxis": 0
            },
            "column_6c0eeba628": {
             "type": "column",
             "yAxis": 0
            },
            "column_6c0eeba632": {
             "color": "#00B6EB",
             "type": "column",
             "yAxis": 0
            },
            "column_6c0eeba637": {
             "color": "#A58AFF",
             "type": "column",
             "yAxis": 0
            }
           },
           "showDataLabels": false,
           "sizemode": "diameter",
           "sortX": true,
           "sortY": true,
           "swappedAxes": false,
           "textFormat": "",
           "useAggregationsUi": true,
           "valuesOptions": {},
           "version": 2,
           "xAxis": {
            "labels": {
             "enabled": true
            },
            "type": "-"
           },
           "yAxis": [
            {
             "type": "-"
            },
            {
             "opposite": true,
             "type": "-"
            }
           ]
          }
         }
        ]
       },
       "datasetPreviewNameToCmdIdMap": {},
       "diffDeletes": [],
       "diffInserts": [],
       "displayType": "redashChart",
       "error": null,
       "errorDetails": null,
       "errorSummary": null,
       "errorTraceType": null,
       "finishTime": 0,
       "globalVars": {},
       "guid": "",
       "height": "auto",
       "hideCommandCode": false,
       "hideCommandResult": false,
       "iPythonMetadata": null,
       "inputWidgets": {},
       "isLockedInExamMode": false,
       "latestUser": "a user",
       "latestUserId": null,
       "listResultMetadata": null,
       "metadata": {},
       "nuid": "590a51b2-f63e-49fd-beaa-55358ffc58b6",
       "origId": 0,
       "parentHierarchy": [],
       "pivotAggregation": null,
       "pivotColumns": null,
       "position": 6.0,
       "resultDbfsErrorMessage": null,
       "resultDbfsStatus": "INLINED_IN_TREE",
       "results": null,
       "showCommandTitle": false,
       "startTime": 0,
       "state": "input",
       "streamStates": {},
       "subcommandOptions": {
        "queryPlan": {
         "groups": [
          {
           "column": "Item_name",
           "type": "column"
          }
         ],
         "selects": [
          {
           "column": "Item_name",
           "type": "column"
          },
          {
           "alias": "column_6c0eeba637",
           "args": [
            {
             "column": "TotalAmount",
             "type": "column"
            }
           ],
           "function": "SUM",
           "type": "function"
          }
         ]
        }
       },
       "submitTime": 0,
       "subtype": "tableResultSubCmd.visualization",
       "tableResultIndex": 0,
       "useConsistentColors": false,
       "version": "CommandV1",
       "width": "auto",
       "workflows": [],
       "xColumns": null,
       "yColumns": null
      }
     },
     "output_type": "display_data"
    }
   ],
   "source": [
    "from pyspark.sql.functions import sum\n",
    "category_totals = cleaned_data.groupBy(\"Item_name\").agg(sum(\"price\").alias(\"TotalAmount\"))\n",
    "# To remove null value\n",
    "#cleaned_data = category_totals.na.drop(subset=[\"Item_name\", \"TotalAmount\"])\n",
    "display(category_totals)\n",
    "#display(cleaned_data)"
   ]
  },
  {
   "cell_type": "code",
   "execution_count": 0,
   "metadata": {
    "application/vnd.databricks.v1+cell": {
     "cellMetadata": {
      "byteLimit": 2048000,
      "rowLimit": 10000
     },
     "inputWidgets": {},
     "nuid": "e407f616-f5ee-4b59-8a42-30ce6d2de74d",
     "showTitle": true,
     "title": "2. Total Amount Spent by Each Customer"
    }
   },
   "outputs": [
    {
     "output_type": "display_data",
     "data": {
      "text/html": [
       "<style scoped>\n",
       "  .table-result-container {\n",
       "    max-height: 300px;\n",
       "    overflow: auto;\n",
       "  }\n",
       "  table, th, td {\n",
       "    border: 1px solid black;\n",
       "    border-collapse: collapse;\n",
       "  }\n",
       "  th, td {\n",
       "    padding: 5px;\n",
       "  }\n",
       "  th {\n",
       "    text-align: left;\n",
       "  }\n",
       "</style><div class='table-result-container'><table class='table-result'><thead style='background-color: white'><tr><th>Customer_ID</th><th>TotalAmount</th></tr></thead><tbody><tr><td>E</td><td>2040</td></tr><tr><td>B</td><td>4440</td></tr><tr><td>D</td><td>1200</td></tr><tr><td>C</td><td>2400</td></tr><tr><td>A</td><td>4260</td></tr></tbody></table></div>"
      ]
     },
     "metadata": {
      "application/vnd.databricks.v1+output": {
       "addedWidgets": {},
       "aggData": [],
       "aggError": "",
       "aggOverflow": false,
       "aggSchema": [],
       "aggSeriesLimitReached": false,
       "aggType": "",
       "arguments": {},
       "columnCustomDisplayInfos": {},
       "data": [
        [
         "E",
         2040
        ],
        [
         "B",
         4440
        ],
        [
         "D",
         1200
        ],
        [
         "C",
         2400
        ],
        [
         "A",
         4260
        ]
       ],
       "datasetInfos": [],
       "dbfsResultPath": null,
       "isJsonSchema": true,
       "metadata": {},
       "overflow": false,
       "plotOptions": {
        "customPlotOptions": {},
        "displayType": "table",
        "pivotAggregation": null,
        "pivotColumns": null,
        "xColumns": null,
        "yColumns": null
       },
       "removedWidgets": [],
       "schema": [
        {
         "metadata": "{}",
         "name": "Customer_ID",
         "type": "\"string\""
        },
        {
         "metadata": "{}",
         "name": "TotalAmount",
         "type": "\"long\""
        }
       ],
       "type": "table"
      }
     },
     "output_type": "display_data"
    },
    {
     "output_type": "display_data",
     "data": {
      "text/plain": [
       "Databricks visualization. Run in Databricks to view."
      ]
     },
     "metadata": {
      "application/vnd.databricks.v1.subcommand+json": {
       "baseErrorDetails": null,
       "bindings": {},
       "collapsed": false,
       "command": "%python\n__backend_agg_display_orig = display\n__backend_agg_dfs = []\ndef __backend_agg_display_new(df):\n    __backend_agg_df_modules = [\"pandas.core.frame\", \"databricks.koalas.frame\", \"pyspark.sql.dataframe\", \"pyspark.pandas.frame\", \"pyspark.sql.connect.dataframe\"]\n    if (type(df).__module__ in __backend_agg_df_modules and type(df).__name__ == 'DataFrame') or isinstance(df, list):\n        __backend_agg_dfs.append(df)\n\ndisplay = __backend_agg_display_new\n\ndef __backend_agg_user_code_fn():\n    import base64\n    exec(base64.standard_b64decode(\"Y3VzdG9tZXJfdG90YWxzID0gY2xlYW5lZF9kYXRhLmdyb3VwQnkoIkN1c3RvbWVyX0lEIikuYWdnKHN1bSgiUHJpY2UiKS5hbGlhcygiVG90YWxBbW91bnQiKSkKZGlzcGxheShjdXN0b21lcl90b3RhbHMp\").decode())\n\ntry:\n    # run user code\n    __backend_agg_user_code_fn()\n\n    #reset display function\n    display = __backend_agg_display_orig\n\n    if len(__backend_agg_dfs) > 0:\n        # create a temp view\n        if type(__backend_agg_dfs[0]).__module__ == \"databricks.koalas.frame\":\n            # koalas dataframe\n            __backend_agg_dfs[0].to_spark().createOrReplaceTempView(\"DatabricksView679e359\")\n        elif type(__backend_agg_dfs[0]).__module__ == \"pandas.core.frame\" or isinstance(__backend_agg_dfs[0], list):\n            # pandas dataframe\n            spark.createDataFrame(__backend_agg_dfs[0]).createOrReplaceTempView(\"DatabricksView679e359\")\n        else:\n            __backend_agg_dfs[0].createOrReplaceTempView(\"DatabricksView679e359\")\n        #run backend agg\n        display(spark.sql(\"\"\"WITH q AS (select * from DatabricksView679e359) SELECT `Customer_ID`,SUM(`TotalAmount`) `column_6c0eeba658`,`Customer_ID` FROM q GROUP BY `Customer_ID`\"\"\"))\n    else:\n        displayHTML(\"dataframe no longer exists. If you're using dataframe.display(), use display(dataframe) instead.\")\n\n\nfinally:\n    spark.sql(\"drop view if exists DatabricksView679e359\")\n    display = __backend_agg_display_orig\n    del __backend_agg_display_new\n    del __backend_agg_display_orig\n    del __backend_agg_dfs\n    del __backend_agg_user_code_fn\n\n",
       "commandTitle": "Amount Spent by Each Customer",
       "commandType": "auto",
       "commandVersion": 0,
       "commentThread": [],
       "commentsVisible": false,
       "contentSha256Hex": null,
       "customPlotOptions": {
        "redashChart": [
         {
          "key": "type",
          "value": "CHART"
         },
         {
          "key": "options",
          "value": {
           "alignYAxesAtZero": true,
           "coefficient": 1,
           "columnConfigurationMap": {
            "series": {
             "column": "Customer_ID",
             "id": "column_6c0eeba660"
            },
            "x": {
             "column": "Customer_ID",
             "id": "column_6c0eeba657"
            },
            "y": [
             {
              "column": "TotalAmount",
              "id": "column_6c0eeba658",
              "transform": "SUM"
             }
            ]
           },
           "dateTimeFormat": "DD/MM/YYYY HH:mm",
           "direction": {
            "type": "counterclockwise"
           },
           "error_y": {
            "type": "data",
            "visible": true
           },
           "globalSeriesType": "column",
           "isAggregationOn": true,
           "legend": {
            "traceorder": "normal"
           },
           "missingValuesAsZero": true,
           "numberFormat": "0,0.[00000]",
           "percentFormat": "0[.]00%",
           "series": {
            "error_y": {
             "type": "data",
             "visible": true
            },
            "stacking": null
           },
           "seriesOptions": {
            "column_6c0eeba658": {
             "name": "TotalAmount",
             "yAxis": 0
            }
           },
           "showDataLabels": false,
           "sizemode": "diameter",
           "sortX": true,
           "sortY": true,
           "swappedAxes": false,
           "textFormat": "",
           "useAggregationsUi": true,
           "valuesOptions": {},
           "version": 2,
           "xAxis": {
            "labels": {
             "enabled": true
            },
            "type": "-"
           },
           "yAxis": [
            {
             "type": "-"
            },
            {
             "opposite": true,
             "type": "-"
            }
           ]
          }
         }
        ]
       },
       "datasetPreviewNameToCmdIdMap": {},
       "diffDeletes": [],
       "diffInserts": [],
       "displayType": "redashChart",
       "error": null,
       "errorDetails": null,
       "errorSummary": null,
       "errorTraceType": null,
       "finishTime": 0,
       "globalVars": {},
       "guid": "",
       "height": "auto",
       "hideCommandCode": false,
       "hideCommandResult": false,
       "iPythonMetadata": null,
       "inputWidgets": {},
       "isLockedInExamMode": false,
       "latestUser": "a user",
       "latestUserId": null,
       "listResultMetadata": null,
       "metadata": {},
       "nuid": "747ff8f8-1ad8-41e0-b69c-c103d73017b6",
       "origId": 0,
       "parentHierarchy": [],
       "pivotAggregation": null,
       "pivotColumns": null,
       "position": 7.0,
       "resultDbfsErrorMessage": null,
       "resultDbfsStatus": "INLINED_IN_TREE",
       "results": null,
       "showCommandTitle": false,
       "startTime": 0,
       "state": "input",
       "streamStates": {},
       "subcommandOptions": {
        "queryPlan": {
         "groups": [
          {
           "column": "Customer_ID",
           "type": "column"
          },
          {
           "column": "Customer_ID",
           "type": "column"
          }
         ],
         "selects": [
          {
           "column": "Customer_ID",
           "type": "column"
          },
          {
           "alias": "column_6c0eeba658",
           "args": [
            {
             "column": "TotalAmount",
             "type": "column"
            }
           ],
           "function": "SUM",
           "type": "function"
          },
          {
           "column": "Customer_ID",
           "type": "column"
          }
         ]
        }
       },
       "submitTime": 0,
       "subtype": "tableResultSubCmd.visualization",
       "tableResultIndex": 0,
       "useConsistentColors": false,
       "version": "CommandV1",
       "width": "auto",
       "workflows": [],
       "xColumns": null,
       "yColumns": null
      }
     },
     "output_type": "display_data"
    }
   ],
   "source": [
    "customer_totals = cleaned_data.groupBy(\"Customer_ID\").agg(sum(\"Price\").alias(\"TotalAmount\"))\n",
    "display(customer_totals)"
   ]
  },
  {
   "cell_type": "code",
   "execution_count": 0,
   "metadata": {
    "application/vnd.databricks.v1+cell": {
     "cellMetadata": {
      "byteLimit": 2048000,
      "rowLimit": 10000
     },
     "inputWidgets": {},
     "nuid": "7173e09e-ebee-4e7a-903b-e9a9b9a64fc8",
     "showTitle": true,
     "title": "3. Total Amount of Sales for Each Month"
    }
   },
   "outputs": [
    {
     "output_type": "display_data",
     "data": {
      "text/html": [
       "<style scoped>\n",
       "  .table-result-container {\n",
       "    max-height: 300px;\n",
       "    overflow: auto;\n",
       "  }\n",
       "  table, th, td {\n",
       "    border: 1px solid black;\n",
       "    border-collapse: collapse;\n",
       "  }\n",
       "  th, td {\n",
       "    padding: 5px;\n",
       "  }\n",
       "  th {\n",
       "    text-align: left;\n",
       "  }\n",
       "</style><div class='table-result-container'><table class='table-result'><thead style='background-color: white'><tr><th>Order_Year</th><th>Order_Month</th><th>TotalAmount</th></tr></thead><tbody><tr><td>2023</td><td>7</td><td>530</td></tr><tr><td>2022</td><td>2</td><td>1050</td></tr><tr><td>2022</td><td>7</td><td>380</td></tr><tr><td>2023</td><td>6</td><td>2240</td></tr><tr><td>2022</td><td>11</td><td>380</td></tr><tr><td>2022</td><td>3</td><td>380</td></tr><tr><td>2023</td><td>3</td><td>530</td></tr><tr><td>2023</td><td>2</td><td>1680</td></tr><tr><td>2023</td><td>11</td><td>530</td></tr><tr><td>2023</td><td>5</td><td>2240</td></tr><tr><td>2022</td><td>1</td><td>720</td></tr><tr><td>2022</td><td>5</td><td>720</td></tr><tr><td>2022</td><td>6</td><td>720</td></tr><tr><td>2023</td><td>1</td><td>2240</td></tr></tbody></table></div>"
      ]
     },
     "metadata": {
      "application/vnd.databricks.v1+output": {
       "addedWidgets": {},
       "aggData": [],
       "aggError": "",
       "aggOverflow": false,
       "aggSchema": [],
       "aggSeriesLimitReached": false,
       "aggType": "",
       "arguments": {},
       "columnCustomDisplayInfos": {},
       "data": [
        [
         2023,
         7,
         530
        ],
        [
         2022,
         2,
         1050
        ],
        [
         2022,
         7,
         380
        ],
        [
         2023,
         6,
         2240
        ],
        [
         2022,
         11,
         380
        ],
        [
         2022,
         3,
         380
        ],
        [
         2023,
         3,
         530
        ],
        [
         2023,
         2,
         1680
        ],
        [
         2023,
         11,
         530
        ],
        [
         2023,
         5,
         2240
        ],
        [
         2022,
         1,
         720
        ],
        [
         2022,
         5,
         720
        ],
        [
         2022,
         6,
         720
        ],
        [
         2023,
         1,
         2240
        ]
       ],
       "datasetInfos": [],
       "dbfsResultPath": null,
       "isJsonSchema": true,
       "metadata": {},
       "overflow": false,
       "plotOptions": {
        "customPlotOptions": {},
        "displayType": "table",
        "pivotAggregation": null,
        "pivotColumns": null,
        "xColumns": null,
        "yColumns": null
       },
       "removedWidgets": [],
       "schema": [
        {
         "metadata": "{}",
         "name": "Order_Year",
         "type": "\"integer\""
        },
        {
         "metadata": "{}",
         "name": "Order_Month",
         "type": "\"integer\""
        },
        {
         "metadata": "{}",
         "name": "TotalAmount",
         "type": "\"long\""
        }
       ],
       "type": "table"
      }
     },
     "output_type": "display_data"
    },
    {
     "output_type": "display_data",
     "data": {
      "text/plain": [
       "Databricks visualization. Run in Databricks to view."
      ]
     },
     "metadata": {
      "application/vnd.databricks.v1.subcommand+json": {
       "baseErrorDetails": null,
       "bindings": {},
       "collapsed": false,
       "command": "%python\n__backend_agg_display_orig = display\n__backend_agg_dfs = []\ndef __backend_agg_display_new(df):\n    __backend_agg_df_modules = [\"pandas.core.frame\", \"databricks.koalas.frame\", \"pyspark.sql.dataframe\", \"pyspark.pandas.frame\", \"pyspark.sql.connect.dataframe\"]\n    if (type(df).__module__ in __backend_agg_df_modules and type(df).__name__ == 'DataFrame') or isinstance(df, list):\n        __backend_agg_dfs.append(df)\n\ndisplay = __backend_agg_display_new\n\ndef __backend_agg_user_code_fn():\n    import base64\n    exec(base64.standard_b64decode(\"c2FsZXNfdG90YWxzID0gY2xlYW5lZF9kYXRhLmdyb3VwQnkoIk9yZGVyX1llYXIiLCJPcmRlcl9Nb250aCIpLmFnZyhzdW0oIlByaWNlIikuYWxpYXMoIlRvdGFsQW1vdW50IikpCmRpc3BsYXkoc2FsZXNfdG90YWxzKQ==\").decode())\n\ntry:\n    # run user code\n    __backend_agg_user_code_fn()\n\n    #reset display function\n    display = __backend_agg_display_orig\n\n    if len(__backend_agg_dfs) > 0:\n        # create a temp view\n        if type(__backend_agg_dfs[0]).__module__ == \"databricks.koalas.frame\":\n            # koalas dataframe\n            __backend_agg_dfs[0].to_spark().createOrReplaceTempView(\"DatabricksView460fdb0\")\n        elif type(__backend_agg_dfs[0]).__module__ == \"pandas.core.frame\" or isinstance(__backend_agg_dfs[0], list):\n            # pandas dataframe\n            spark.createDataFrame(__backend_agg_dfs[0]).createOrReplaceTempView(\"DatabricksView460fdb0\")\n        else:\n            __backend_agg_dfs[0].createOrReplaceTempView(\"DatabricksView460fdb0\")\n        #run backend agg\n        display(spark.sql(\"\"\"WITH q AS (select * from DatabricksView460fdb0) SELECT `Order_Year`,SUM(`TotalAmount`) `column_6c0eeba665`,`Order_Month` FROM q GROUP BY `Order_Month`,`Order_Year`\"\"\"))\n    else:\n        displayHTML(\"dataframe no longer exists. If you're using dataframe.display(), use display(dataframe) instead.\")\n\n\nfinally:\n    spark.sql(\"drop view if exists DatabricksView460fdb0\")\n    display = __backend_agg_display_orig\n    del __backend_agg_display_new\n    del __backend_agg_display_orig\n    del __backend_agg_dfs\n    del __backend_agg_user_code_fn\n\n",
       "commandTitle": "Total Amount of Sales Each Month in 2022 and 2023",
       "commandType": "auto",
       "commandVersion": 0,
       "commentThread": [],
       "commentsVisible": false,
       "contentSha256Hex": null,
       "customPlotOptions": {
        "redashChart": [
         {
          "key": "type",
          "value": "CHART"
         },
         {
          "key": "options",
          "value": {
           "alignYAxesAtZero": true,
           "coefficient": 1,
           "columnConfigurationMap": {
            "series": {
             "column": "Order_Month",
             "id": "column_6c0eeba663"
            },
            "x": {
             "column": "Order_Year",
             "id": "column_6c0eeba668"
            },
            "y": [
             {
              "column": "TotalAmount",
              "id": "column_6c0eeba665",
              "transform": "SUM"
             }
            ]
           },
           "dateTimeFormat": "DD/MM/YYYY HH:mm",
           "direction": {
            "type": "counterclockwise"
           },
           "error_y": {
            "type": "data",
            "visible": true
           },
           "globalSeriesType": "column",
           "isAggregationOn": true,
           "legend": {
            "traceorder": "normal"
           },
           "missingValuesAsZero": true,
           "numberFormat": "0,0.[00000]",
           "percentFormat": "0[.]00%",
           "series": {
            "error_y": {
             "type": "data",
             "visible": true
            },
            "stacking": null
           },
           "seriesOptions": {
            "column_6c0eeba665": {
             "type": "column",
             "yAxis": 0
            }
           },
           "showDataLabels": false,
           "sizemode": "diameter",
           "sortX": true,
           "sortY": true,
           "swappedAxes": false,
           "textFormat": "",
           "useAggregationsUi": true,
           "valuesOptions": {},
           "version": 2,
           "xAxis": {
            "labels": {
             "enabled": true
            },
            "type": "-"
           },
           "yAxis": [
            {
             "type": "-"
            },
            {
             "opposite": true,
             "type": "-"
            }
           ]
          }
         }
        ]
       },
       "datasetPreviewNameToCmdIdMap": {},
       "diffDeletes": [],
       "diffInserts": [],
       "displayType": "redashChart",
       "error": null,
       "errorDetails": null,
       "errorSummary": null,
       "errorTraceType": null,
       "finishTime": 0,
       "globalVars": {},
       "guid": "",
       "height": "auto",
       "hideCommandCode": false,
       "hideCommandResult": false,
       "iPythonMetadata": null,
       "inputWidgets": {},
       "isLockedInExamMode": false,
       "latestUser": "a user",
       "latestUserId": null,
       "listResultMetadata": null,
       "metadata": {},
       "nuid": "32023207-1c12-4032-9d23-32ef0dcdea99",
       "origId": 0,
       "parentHierarchy": [],
       "pivotAggregation": null,
       "pivotColumns": null,
       "position": 8.0,
       "resultDbfsErrorMessage": null,
       "resultDbfsStatus": "INLINED_IN_TREE",
       "results": null,
       "showCommandTitle": false,
       "startTime": 0,
       "state": "input",
       "streamStates": {},
       "subcommandOptions": {
        "queryPlan": {
         "groups": [
          {
           "column": "Order_Year",
           "type": "column"
          },
          {
           "column": "Order_Month",
           "type": "column"
          }
         ],
         "selects": [
          {
           "column": "Order_Year",
           "type": "column"
          },
          {
           "alias": "column_6c0eeba665",
           "args": [
            {
             "column": "TotalAmount",
             "type": "column"
            }
           ],
           "function": "SUM",
           "type": "function"
          },
          {
           "column": "Order_Month",
           "type": "column"
          }
         ]
        }
       },
       "submitTime": 0,
       "subtype": "tableResultSubCmd.visualization",
       "tableResultIndex": 0,
       "useConsistentColors": false,
       "version": "CommandV1",
       "width": "auto",
       "workflows": [],
       "xColumns": null,
       "yColumns": null
      }
     },
     "output_type": "display_data"
    }
   ],
   "source": [
    "sales_totals = cleaned_data.groupBy(\"Order_Year\",\"Order_Month\").agg(sum(\"Price\").alias(\"TotalAmount\"))\n",
    "display(sales_totals)"
   ]
  },
  {
   "cell_type": "code",
   "execution_count": 0,
   "metadata": {
    "application/vnd.databricks.v1+cell": {
     "cellMetadata": {
      "byteLimit": 2048000,
      "rowLimit": 10000
     },
     "inputWidgets": {},
     "nuid": "4214bf59-6777-437c-9c81-def847108ce6",
     "showTitle": true,
     "title": "4. Yearly and Quarterly Sales"
    }
   },
   "outputs": [
    {
     "output_type": "display_data",
     "data": {
      "text/html": [
       "<style scoped>\n",
       "  .table-result-container {\n",
       "    max-height: 300px;\n",
       "    overflow: auto;\n",
       "  }\n",
       "  table, th, td {\n",
       "    border: 1px solid black;\n",
       "    border-collapse: collapse;\n",
       "  }\n",
       "  th, td {\n",
       "    padding: 5px;\n",
       "  }\n",
       "  th {\n",
       "    text-align: left;\n",
       "  }\n",
       "</style><div class='table-result-container'><table class='table-result'><thead style='background-color: white'><tr><th>Order_Year</th><th>Order_Quarter</th><th>TotalAmount</th></tr></thead><tbody><tr><td>2022</td><td>2</td><td>1440</td></tr><tr><td>2022</td><td>3</td><td>380</td></tr><tr><td>2023</td><td>3</td><td>530</td></tr><tr><td>2023</td><td>2</td><td>4480</td></tr><tr><td>2023</td><td>4</td><td>530</td></tr><tr><td>2022</td><td>1</td><td>2150</td></tr><tr><td>2022</td><td>4</td><td>380</td></tr><tr><td>2023</td><td>1</td><td>4450</td></tr></tbody></table></div>"
      ]
     },
     "metadata": {
      "application/vnd.databricks.v1+output": {
       "addedWidgets": {},
       "aggData": [],
       "aggError": "",
       "aggOverflow": false,
       "aggSchema": [],
       "aggSeriesLimitReached": false,
       "aggType": "",
       "arguments": {},
       "columnCustomDisplayInfos": {},
       "data": [
        [
         2022,
         2,
         1440
        ],
        [
         2022,
         3,
         380
        ],
        [
         2023,
         3,
         530
        ],
        [
         2023,
         2,
         4480
        ],
        [
         2023,
         4,
         530
        ],
        [
         2022,
         1,
         2150
        ],
        [
         2022,
         4,
         380
        ],
        [
         2023,
         1,
         4450
        ]
       ],
       "datasetInfos": [],
       "dbfsResultPath": null,
       "isJsonSchema": true,
       "metadata": {},
       "overflow": false,
       "plotOptions": {
        "customPlotOptions": {},
        "displayType": "table",
        "pivotAggregation": null,
        "pivotColumns": null,
        "xColumns": null,
        "yColumns": null
       },
       "removedWidgets": [],
       "schema": [
        {
         "metadata": "{}",
         "name": "Order_Year",
         "type": "\"integer\""
        },
        {
         "metadata": "{}",
         "name": "Order_Quarter",
         "type": "\"integer\""
        },
        {
         "metadata": "{}",
         "name": "TotalAmount",
         "type": "\"long\""
        }
       ],
       "type": "table"
      }
     },
     "output_type": "display_data"
    },
    {
     "output_type": "display_data",
     "data": {
      "text/plain": [
       "Databricks visualization. Run in Databricks to view."
      ]
     },
     "metadata": {
      "application/vnd.databricks.v1.subcommand+json": {
       "baseErrorDetails": null,
       "bindings": {},
       "collapsed": false,
       "command": "%python\n__backend_agg_display_orig = display\n__backend_agg_dfs = []\ndef __backend_agg_display_new(df):\n    __backend_agg_df_modules = [\"pandas.core.frame\", \"databricks.koalas.frame\", \"pyspark.sql.dataframe\", \"pyspark.pandas.frame\", \"pyspark.sql.connect.dataframe\"]\n    if (type(df).__module__ in __backend_agg_df_modules and type(df).__name__ == 'DataFrame') or isinstance(df, list):\n        __backend_agg_dfs.append(df)\n\ndisplay = __backend_agg_display_new\n\ndef __backend_agg_user_code_fn():\n    import base64\n    exec(base64.standard_b64decode(\"c2FsZXNfdG90YWxzID0gY2xlYW5lZF9kYXRhLmdyb3VwQnkoIk9yZGVyX1llYXIiLCJPcmRlcl9RdWFydGVyIikuYWdnKHN1bSgiUHJpY2UiKS5hbGlhcygiVG90YWxBbW91bnQiKSkKZGlzcGxheShzYWxlc190b3RhbHMp\").decode())\n\ntry:\n    # run user code\n    __backend_agg_user_code_fn()\n\n    #reset display function\n    display = __backend_agg_display_orig\n\n    if len(__backend_agg_dfs) > 0:\n        # create a temp view\n        if type(__backend_agg_dfs[0]).__module__ == \"databricks.koalas.frame\":\n            # koalas dataframe\n            __backend_agg_dfs[0].to_spark().createOrReplaceTempView(\"DatabricksView1854b0b\")\n        elif type(__backend_agg_dfs[0]).__module__ == \"pandas.core.frame\" or isinstance(__backend_agg_dfs[0], list):\n            # pandas dataframe\n            spark.createDataFrame(__backend_agg_dfs[0]).createOrReplaceTempView(\"DatabricksView1854b0b\")\n        else:\n            __backend_agg_dfs[0].createOrReplaceTempView(\"DatabricksView1854b0b\")\n        #run backend agg\n        display(spark.sql(\"\"\"WITH q AS (select * from DatabricksView1854b0b) SELECT `Order_Year`,SUM(`TotalAmount`) `column_6c0eeba674`,`Order_Quarter` FROM q GROUP BY `Order_Quarter`,`Order_Year`\"\"\"))\n    else:\n        displayHTML(\"dataframe no longer exists. If you're using dataframe.display(), use display(dataframe) instead.\")\n\n\nfinally:\n    spark.sql(\"drop view if exists DatabricksView1854b0b\")\n    display = __backend_agg_display_orig\n    del __backend_agg_display_new\n    del __backend_agg_display_orig\n    del __backend_agg_dfs\n    del __backend_agg_user_code_fn\n\n",
       "commandTitle": "Yearly and Quarterly Sales",
       "commandType": "auto",
       "commandVersion": 0,
       "commentThread": [],
       "commentsVisible": false,
       "contentSha256Hex": null,
       "customPlotOptions": {
        "redashChart": [
         {
          "key": "type",
          "value": "CHART"
         },
         {
          "key": "options",
          "value": {
           "alignYAxesAtZero": true,
           "coefficient": 1,
           "columnConfigurationMap": {
            "series": {
             "column": "Order_Quarter",
             "id": "column_6c0eeba672"
            },
            "x": {
             "column": "Order_Year",
             "id": "column_6c0eeba670"
            },
            "y": [
             {
              "column": "TotalAmount",
              "id": "column_6c0eeba674",
              "transform": "SUM"
             }
            ]
           },
           "dateTimeFormat": "DD/MM/YYYY HH:mm",
           "direction": {
            "type": "counterclockwise"
           },
           "error_y": {
            "type": "data",
            "visible": true
           },
           "globalSeriesType": "column",
           "isAggregationOn": true,
           "legend": {
            "traceorder": "normal"
           },
           "missingValuesAsZero": true,
           "numberFormat": "0,0.[00000]",
           "percentFormat": "0[.]00%",
           "series": {
            "error_y": {
             "type": "data",
             "visible": true
            },
            "stacking": null
           },
           "seriesOptions": {
            "column_6c0eeba674": {
             "type": "column",
             "yAxis": 0
            }
           },
           "showDataLabels": false,
           "sizemode": "diameter",
           "sortX": true,
           "sortY": true,
           "swappedAxes": false,
           "textFormat": "",
           "useAggregationsUi": true,
           "valuesOptions": {},
           "version": 2,
           "xAxis": {
            "labels": {
             "enabled": true
            },
            "type": "-"
           },
           "yAxis": [
            {
             "type": "-"
            },
            {
             "opposite": true,
             "type": "-"
            }
           ]
          }
         }
        ]
       },
       "datasetPreviewNameToCmdIdMap": {},
       "diffDeletes": [],
       "diffInserts": [],
       "displayType": "redashChart",
       "error": null,
       "errorDetails": null,
       "errorSummary": null,
       "errorTraceType": null,
       "finishTime": 0,
       "globalVars": {},
       "guid": "",
       "height": "auto",
       "hideCommandCode": false,
       "hideCommandResult": false,
       "iPythonMetadata": null,
       "inputWidgets": {},
       "isLockedInExamMode": false,
       "latestUser": "a user",
       "latestUserId": null,
       "listResultMetadata": null,
       "metadata": {},
       "nuid": "0dc2b77b-7a12-4da8-9584-5086d2cbac63",
       "origId": 0,
       "parentHierarchy": [],
       "pivotAggregation": null,
       "pivotColumns": null,
       "position": 9.0,
       "resultDbfsErrorMessage": null,
       "resultDbfsStatus": "INLINED_IN_TREE",
       "results": null,
       "showCommandTitle": false,
       "startTime": 0,
       "state": "input",
       "streamStates": {},
       "subcommandOptions": {
        "queryPlan": {
         "groups": [
          {
           "column": "Order_Year",
           "type": "column"
          },
          {
           "column": "Order_Quarter",
           "type": "column"
          }
         ],
         "selects": [
          {
           "column": "Order_Year",
           "type": "column"
          },
          {
           "alias": "column_6c0eeba674",
           "args": [
            {
             "column": "TotalAmount",
             "type": "column"
            }
           ],
           "function": "SUM",
           "type": "function"
          },
          {
           "column": "Order_Quarter",
           "type": "column"
          }
         ]
        }
       },
       "submitTime": 0,
       "subtype": "tableResultSubCmd.visualization",
       "tableResultIndex": 0,
       "useConsistentColors": false,
       "version": "CommandV1",
       "width": "auto",
       "workflows": [],
       "xColumns": null,
       "yColumns": null
      }
     },
     "output_type": "display_data"
    }
   ],
   "source": [
    "sales_totals = cleaned_data.groupBy(\"Order_Year\",\"Order_Quarter\").agg(sum(\"Price\").alias(\"TotalAmount\"))\n",
    "display(sales_totals)"
   ]
  },
  {
   "cell_type": "code",
   "execution_count": 0,
   "metadata": {
    "application/vnd.databricks.v1+cell": {
     "cellMetadata": {
      "byteLimit": 2048000,
      "rowLimit": 10000
     },
     "inputWidgets": {},
     "nuid": "a5642d4a-56c9-4b22-af98-3c9d7092527c",
     "showTitle": true,
     "title": "5. Top Ordered Food Items"
    }
   },
   "outputs": [
    {
     "output_type": "display_data",
     "data": {
      "text/html": [
       "<style scoped>\n",
       "  .table-result-container {\n",
       "    max-height: 300px;\n",
       "    overflow: auto;\n",
       "  }\n",
       "  table, th, td {\n",
       "    border: 1px solid black;\n",
       "    border-collapse: collapse;\n",
       "  }\n",
       "  th, td {\n",
       "    padding: 5px;\n",
       "  }\n",
       "  th {\n",
       "    text-align: left;\n",
       "  }\n",
       "</style><div class='table-result-container'><table class='table-result'><thead style='background-color: white'><tr><th>Item_name</th><th>OrderCount</th></tr></thead><tbody><tr><td> sandwich</td><td>48</td></tr><tr><td> Chowmin</td><td>24</td></tr><tr><td> PIZZA</td><td>21</td></tr><tr><td> Dosa</td><td>12</td></tr><tr><td> Pasta</td><td>6</td></tr><tr><td> Biryani</td><td>6</td></tr></tbody></table></div>"
      ]
     },
     "metadata": {
      "application/vnd.databricks.v1+output": {
       "addedWidgets": {},
       "aggData": [],
       "aggError": "",
       "aggOverflow": false,
       "aggSchema": [],
       "aggSeriesLimitReached": false,
       "aggType": "",
       "arguments": {},
       "columnCustomDisplayInfos": {},
       "data": [
        [
         " sandwich",
         48
        ],
        [
         " Chowmin",
         24
        ],
        [
         " PIZZA",
         21
        ],
        [
         " Dosa",
         12
        ],
        [
         " Pasta",
         6
        ],
        [
         " Biryani",
         6
        ]
       ],
       "datasetInfos": [],
       "dbfsResultPath": null,
       "isJsonSchema": true,
       "metadata": {},
       "overflow": false,
       "plotOptions": {
        "customPlotOptions": {},
        "displayType": "table",
        "pivotAggregation": null,
        "pivotColumns": null,
        "xColumns": null,
        "yColumns": null
       },
       "removedWidgets": [],
       "schema": [
        {
         "metadata": "{}",
         "name": "Item_name",
         "type": "\"string\""
        },
        {
         "metadata": "{}",
         "name": "OrderCount",
         "type": "\"long\""
        }
       ],
       "type": "table"
      }
     },
     "output_type": "display_data"
    },
    {
     "output_type": "display_data",
     "data": {
      "text/plain": [
       "Databricks visualization. Run in Databricks to view."
      ]
     },
     "metadata": {
      "application/vnd.databricks.v1.subcommand+json": {
       "baseErrorDetails": null,
       "bindings": {},
       "collapsed": false,
       "command": "%python\n__backend_agg_display_orig = display\n__backend_agg_dfs = []\ndef __backend_agg_display_new(df):\n    __backend_agg_df_modules = [\"pandas.core.frame\", \"databricks.koalas.frame\", \"pyspark.sql.dataframe\", \"pyspark.pandas.frame\", \"pyspark.sql.connect.dataframe\"]\n    if (type(df).__module__ in __backend_agg_df_modules and type(df).__name__ == 'DataFrame') or isinstance(df, list):\n        __backend_agg_dfs.append(df)\n\ndisplay = __backend_agg_display_new\n\ndef __backend_agg_user_code_fn():\n    import base64\n    exec(base64.standard_b64decode(\"ZnJvbSBweXNwYXJrLnNxbC5mdW5jdGlvbnMgaW1wb3J0IGNvdW50CnRvcF9vcmRlcmVkX2l0ZW1zID0gY2xlYW5lZF9kYXRhLmdyb3VwQnkoIkl0ZW1fbmFtZSIpLmFnZyhjb3VudCgiKiIpLmFsaWFzKCJPcmRlckNvdW50IikpLm9yZGVyQnkoIk9yZGVyQ291bnQiLGFzY2VuZGluZz1GYWxzZSkKZGlzcGxheSh0b3Bfb3JkZXJlZF9pdGVtcyk=\").decode())\n\ntry:\n    # run user code\n    __backend_agg_user_code_fn()\n\n    #reset display function\n    display = __backend_agg_display_orig\n\n    if len(__backend_agg_dfs) > 0:\n        # create a temp view\n        if type(__backend_agg_dfs[0]).__module__ == \"databricks.koalas.frame\":\n            # koalas dataframe\n            __backend_agg_dfs[0].to_spark().createOrReplaceTempView(\"DatabricksViewaba2b35\")\n        elif type(__backend_agg_dfs[0]).__module__ == \"pandas.core.frame\" or isinstance(__backend_agg_dfs[0], list):\n            # pandas dataframe\n            spark.createDataFrame(__backend_agg_dfs[0]).createOrReplaceTempView(\"DatabricksViewaba2b35\")\n        else:\n            __backend_agg_dfs[0].createOrReplaceTempView(\"DatabricksViewaba2b35\")\n        #run backend agg\n        display(spark.sql(\"\"\"WITH q AS (select * from DatabricksViewaba2b35) SELECT `Item_name`,SUM(`OrderCount`) `column_6c0eeba677`,`Item_name` FROM q GROUP BY `Item_name`\"\"\"))\n    else:\n        displayHTML(\"dataframe no longer exists. If you're using dataframe.display(), use display(dataframe) instead.\")\n\n\nfinally:\n    spark.sql(\"drop view if exists DatabricksViewaba2b35\")\n    display = __backend_agg_display_orig\n    del __backend_agg_display_new\n    del __backend_agg_display_orig\n    del __backend_agg_dfs\n    del __backend_agg_user_code_fn\n\n",
       "commandTitle": "Top Ordered Food Items",
       "commandType": "auto",
       "commandVersion": 0,
       "commentThread": [],
       "commentsVisible": false,
       "contentSha256Hex": null,
       "customPlotOptions": {
        "redashChart": [
         {
          "key": "type",
          "value": "CHART"
         },
         {
          "key": "options",
          "value": {
           "alignYAxesAtZero": true,
           "coefficient": 1,
           "columnConfigurationMap": {
            "series": {
             "column": "Item_name",
             "id": "column_6c0eeba681"
            },
            "x": {
             "column": "Item_name",
             "id": "column_6c0eeba676"
            },
            "y": [
             {
              "column": "OrderCount",
              "id": "column_6c0eeba677",
              "transform": "SUM"
             }
            ]
           },
           "dateTimeFormat": "DD/MM/YYYY HH:mm",
           "direction": {
            "type": "counterclockwise"
           },
           "error_y": {
            "type": "data",
            "visible": true
           },
           "globalSeriesType": "column",
           "isAggregationOn": true,
           "legend": {
            "traceorder": "normal"
           },
           "missingValuesAsZero": true,
           "numberFormat": "0,0.[00000]",
           "percentFormat": "0[.]00%",
           "series": {
            "error_y": {
             "type": "data",
             "visible": true
            },
            "stacking": null
           },
           "seriesOptions": {
            "column_6c0eeba677": {
             "name": "OrderCount",
             "yAxis": 0
            }
           },
           "showDataLabels": false,
           "sizemode": "diameter",
           "sortX": true,
           "sortY": true,
           "swappedAxes": false,
           "textFormat": "",
           "useAggregationsUi": true,
           "valuesOptions": {},
           "version": 2,
           "xAxis": {
            "labels": {
             "enabled": true
            },
            "type": "-"
           },
           "yAxis": [
            {
             "type": "-"
            },
            {
             "opposite": true,
             "type": "-"
            }
           ]
          }
         }
        ]
       },
       "datasetPreviewNameToCmdIdMap": {},
       "diffDeletes": [],
       "diffInserts": [],
       "displayType": "redashChart",
       "error": null,
       "errorDetails": null,
       "errorSummary": null,
       "errorTraceType": null,
       "finishTime": 0,
       "globalVars": {},
       "guid": "",
       "height": "auto",
       "hideCommandCode": false,
       "hideCommandResult": false,
       "iPythonMetadata": null,
       "inputWidgets": {},
       "isLockedInExamMode": false,
       "latestUser": "a user",
       "latestUserId": null,
       "listResultMetadata": null,
       "metadata": {},
       "nuid": "abb8e055-65f9-446e-930d-6f006e9b594d",
       "origId": 0,
       "parentHierarchy": [],
       "pivotAggregation": null,
       "pivotColumns": null,
       "position": 10.0,
       "resultDbfsErrorMessage": null,
       "resultDbfsStatus": "INLINED_IN_TREE",
       "results": null,
       "showCommandTitle": false,
       "startTime": 0,
       "state": "input",
       "streamStates": {},
       "subcommandOptions": {
        "queryPlan": {
         "groups": [
          {
           "column": "Item_name",
           "type": "column"
          },
          {
           "column": "Item_name",
           "type": "column"
          }
         ],
         "selects": [
          {
           "column": "Item_name",
           "type": "column"
          },
          {
           "alias": "column_6c0eeba677",
           "args": [
            {
             "column": "OrderCount",
             "type": "column"
            }
           ],
           "function": "SUM",
           "type": "function"
          },
          {
           "column": "Item_name",
           "type": "column"
          }
         ]
        }
       },
       "submitTime": 0,
       "subtype": "tableResultSubCmd.visualization",
       "tableResultIndex": 0,
       "useConsistentColors": false,
       "version": "CommandV1",
       "width": "auto",
       "workflows": [],
       "xColumns": null,
       "yColumns": null
      }
     },
     "output_type": "display_data"
    }
   ],
   "source": [
    "from pyspark.sql.functions import count\n",
    "top_ordered_items = cleaned_data.groupBy(\"Item_name\").agg(count(\"*\").alias(\"OrderCount\")).orderBy(\"OrderCount\",ascending=False)\n",
    "display(top_ordered_items)"
   ]
  },
  {
   "cell_type": "code",
   "execution_count": 0,
   "metadata": {
    "application/vnd.databricks.v1+cell": {
     "cellMetadata": {
      "byteLimit": 2048000,
      "rowLimit": 10000
     },
     "inputWidgets": {},
     "nuid": "8221c4f6-a004-4d4d-825c-959fd73cd828",
     "showTitle": true,
     "title": "6. Total Sales by Each Country"
    }
   },
   "outputs": [
    {
     "output_type": "display_data",
     "data": {
      "text/html": [
       "<style scoped>\n",
       "  .table-result-container {\n",
       "    max-height: 300px;\n",
       "    overflow: auto;\n",
       "  }\n",
       "  table, th, td {\n",
       "    border: 1px solid black;\n",
       "    border-collapse: collapse;\n",
       "  }\n",
       "  th, td {\n",
       "    padding: 5px;\n",
       "  }\n",
       "  th {\n",
       "    text-align: left;\n",
       "  }\n",
       "</style><div class='table-result-container'><table class='table-result'><thead style='background-color: white'><tr><th>location</th><th>TotalAmount</th></tr></thead><tbody><tr><td>USA</td><td>2460</td></tr><tr><td>UK</td><td>7020</td></tr><tr><td>Canada</td><td>4860</td></tr></tbody></table></div>"
      ]
     },
     "metadata": {
      "application/vnd.databricks.v1+output": {
       "addedWidgets": {},
       "aggData": [],
       "aggError": "",
       "aggOverflow": false,
       "aggSchema": [],
       "aggSeriesLimitReached": false,
       "aggType": "",
       "arguments": {},
       "columnCustomDisplayInfos": {},
       "data": [
        [
         "USA",
         2460
        ],
        [
         "UK",
         7020
        ],
        [
         "Canada",
         4860
        ]
       ],
       "datasetInfos": [],
       "dbfsResultPath": null,
       "isJsonSchema": true,
       "metadata": {},
       "overflow": false,
       "plotOptions": {
        "customPlotOptions": {},
        "displayType": "table",
        "pivotAggregation": null,
        "pivotColumns": null,
        "xColumns": null,
        "yColumns": null
       },
       "removedWidgets": [],
       "schema": [
        {
         "metadata": "{}",
         "name": "location",
         "type": "\"string\""
        },
        {
         "metadata": "{}",
         "name": "TotalAmount",
         "type": "\"long\""
        }
       ],
       "type": "table"
      }
     },
     "output_type": "display_data"
    },
    {
     "output_type": "display_data",
     "data": {
      "text/plain": [
       "Databricks visualization. Run in Databricks to view."
      ]
     },
     "metadata": {
      "application/vnd.databricks.v1.subcommand+json": {
       "baseErrorDetails": null,
       "bindings": {},
       "collapsed": false,
       "command": "%python\n__backend_agg_display_orig = display\n__backend_agg_dfs = []\ndef __backend_agg_display_new(df):\n    __backend_agg_df_modules = [\"pandas.core.frame\", \"databricks.koalas.frame\", \"pyspark.sql.dataframe\", \"pyspark.pandas.frame\", \"pyspark.sql.connect.dataframe\"]\n    if (type(df).__module__ in __backend_agg_df_modules and type(df).__name__ == 'DataFrame') or isinstance(df, list):\n        __backend_agg_dfs.append(df)\n\ndisplay = __backend_agg_display_new\n\ndef __backend_agg_user_code_fn():\n    import base64\n    exec(base64.standard_b64decode(\"c2FsZXNfdG90YWxzID0gY2xlYW5lZF9kYXRhLmdyb3VwQnkoIiIpLmFnZyhzdW0oIlByaWNlIikuYWxpYXMoIlRvdGFsQW1vdW50IikpCmRpc3BsYXkoc2FsZXNfdG90YWxzKQ==\").decode())\n\ntry:\n    # run user code\n    __backend_agg_user_code_fn()\n\n    #reset display function\n    display = __backend_agg_display_orig\n\n    if len(__backend_agg_dfs) > 0:\n        # create a temp view\n        if type(__backend_agg_dfs[0]).__module__ == \"databricks.koalas.frame\":\n            # koalas dataframe\n            __backend_agg_dfs[0].to_spark().createOrReplaceTempView(\"DatabricksViewa5e0026\")\n        elif type(__backend_agg_dfs[0]).__module__ == \"pandas.core.frame\" or isinstance(__backend_agg_dfs[0], list):\n            # pandas dataframe\n            spark.createDataFrame(__backend_agg_dfs[0]).createOrReplaceTempView(\"DatabricksViewa5e0026\")\n        else:\n            __backend_agg_dfs[0].createOrReplaceTempView(\"DatabricksViewa5e0026\")\n        #run backend agg\n        display(spark.sql(\"\"\"WITH q AS (select * from DatabricksViewa5e0026) SELECT `location`,SUM(`TotalAmount`) `column_6c0eeba683` FROM q GROUP BY `location`\"\"\"))\n    else:\n        displayHTML(\"dataframe no longer exists. If you're using dataframe.display(), use display(dataframe) instead.\")\n\n\nfinally:\n    spark.sql(\"drop view if exists DatabricksViewa5e0026\")\n    display = __backend_agg_display_orig\n    del __backend_agg_display_new\n    del __backend_agg_display_orig\n    del __backend_agg_dfs\n    del __backend_agg_user_code_fn\n\n",
       "commandTitle": "Total Sales by Each Country",
       "commandType": "auto",
       "commandVersion": 0,
       "commentThread": [],
       "commentsVisible": false,
       "contentSha256Hex": null,
       "customPlotOptions": {
        "redashChart": [
         {
          "key": "type",
          "value": "CHART"
         },
         {
          "key": "options",
          "value": {
           "alignYAxesAtZero": true,
           "coefficient": 1,
           "columnConfigurationMap": {
            "x": {
             "column": "location",
             "id": "column_6c0eeba682"
            },
            "y": [
             {
              "column": "TotalAmount",
              "id": "column_6c0eeba683",
              "transform": "SUM"
             }
            ]
           },
           "dateTimeFormat": "DD/MM/YYYY HH:mm",
           "direction": {
            "type": "counterclockwise"
           },
           "error_y": {
            "type": "data",
            "visible": true
           },
           "globalSeriesType": "pie",
           "legend": {
            "traceorder": "normal"
           },
           "missingValuesAsZero": true,
           "numberFormat": "0,0.[00000]",
           "percentFormat": "0[.]00%",
           "series": {
            "error_y": {
             "type": "data",
             "visible": true
            },
            "stacking": null
           },
           "seriesOptions": {
            "column_6c0eeba683": {
             "name": "TotalAmount",
             "type": "pie",
             "yAxis": 0
            }
           },
           "showDataLabels": true,
           "sizemode": "diameter",
           "sortX": true,
           "sortY": true,
           "swappedAxes": false,
           "textFormat": "",
           "useAggregationsUi": true,
           "valuesOptions": {},
           "version": 2,
           "xAxis": {
            "labels": {
             "enabled": true
            },
            "type": "-"
           },
           "yAxis": [
            {
             "type": "-"
            },
            {
             "opposite": true,
             "type": "-"
            }
           ]
          }
         }
        ]
       },
       "datasetPreviewNameToCmdIdMap": {},
       "diffDeletes": [],
       "diffInserts": [],
       "displayType": "redashChart",
       "error": null,
       "errorDetails": null,
       "errorSummary": null,
       "errorTraceType": null,
       "finishTime": 0,
       "globalVars": {},
       "guid": "",
       "height": "auto",
       "hideCommandCode": false,
       "hideCommandResult": false,
       "iPythonMetadata": null,
       "inputWidgets": {},
       "isLockedInExamMode": false,
       "latestUser": "a user",
       "latestUserId": null,
       "listResultMetadata": null,
       "metadata": {},
       "nuid": "b1acc28c-0ff0-4e22-8ef7-03437372c4af",
       "origId": 0,
       "parentHierarchy": [],
       "pivotAggregation": null,
       "pivotColumns": null,
       "position": 11.0,
       "resultDbfsErrorMessage": null,
       "resultDbfsStatus": "INLINED_IN_TREE",
       "results": null,
       "showCommandTitle": false,
       "startTime": 0,
       "state": "input",
       "streamStates": {},
       "subcommandOptions": {
        "queryPlan": {
         "groups": [
          {
           "column": "location",
           "type": "column"
          }
         ],
         "selects": [
          {
           "column": "location",
           "type": "column"
          },
          {
           "alias": "column_6c0eeba683",
           "args": [
            {
             "column": "TotalAmount",
             "type": "column"
            }
           ],
           "function": "SUM",
           "type": "function"
          }
         ]
        }
       },
       "submitTime": 0,
       "subtype": "tableResultSubCmd.visualization",
       "tableResultIndex": 0,
       "useConsistentColors": false,
       "version": "CommandV1",
       "width": "auto",
       "workflows": [],
       "xColumns": null,
       "yColumns": null
      }
     },
     "output_type": "display_data"
    }
   ],
   "source": [
    "sales_totals = cleaned_data.groupBy(\"\").agg(sum(\"Price\").alias(\"TotalAmount\"))\n",
    "display(sales_totals)"
   ]
  }
 ],
 "metadata": {
  "application/vnd.databricks.v1+notebook": {
   "dashboards": [],
   "language": "python",
   "notebookMetadata": {
    "pythonIndentUnit": 4
   },
   "notebookName": "Assignment 2 Databricks",
   "widgets": {}
  }
 },
 "nbformat": 4,
 "nbformat_minor": 0
}
