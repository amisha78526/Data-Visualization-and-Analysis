{
 "cells": [
  {
   "cell_type": "code",
   "execution_count": 0,
   "metadata": {
    "application/vnd.databricks.v1+cell": {
     "cellMetadata": {
      "byteLimit": 2048000,
      "rowLimit": 10000
     },
     "inputWidgets": {},
     "nuid": "1aae4357-e0d2-4e2d-b6a6-9d93b078ebd4",
     "showTitle": true,
     "title": "Load Text File From Local fs"
    }
   },
   "outputs": [],
   "source": [
    "rdd = sc.textFile(\"/FileStore/tables/001_Wordcount.txt\")"
   ]
  },
  {
   "cell_type": "code",
   "execution_count": 0,
   "metadata": {
    "application/vnd.databricks.v1+cell": {
     "cellMetadata": {
      "byteLimit": 2048000,
      "rowLimit": 10000
     },
     "inputWidgets": {},
     "nuid": "50720874-fd05-4495-b90b-7ae11cf1fd7a",
     "showTitle": true,
     "title": "Specify the type of the dataset"
    }
   },
   "outputs": [
    {
     "output_type": "stream",
     "name": "stdout",
     "output_type": "stream",
     "text": [
      "Out[21]: pyspark.rdd.RDD"
     ]
    }
   ],
   "source": [
    "type(rdd)"
   ]
  },
  {
   "cell_type": "code",
   "execution_count": 0,
   "metadata": {
    "application/vnd.databricks.v1+cell": {
     "cellMetadata": {
      "byteLimit": 2048000,
      "rowLimit": 10000
     },
     "inputWidgets": {},
     "nuid": "0357cc73-64c5-4f38-9bce-b74882faa7f2",
     "showTitle": true,
     "title": "Retrieve RDD contents as a local collection"
    }
   },
   "outputs": [
    {
     "output_type": "stream",
     "name": "stdout",
     "output_type": "stream",
     "text": [
      "Out[6]: ['hi hello hi hey',\n 'hello hello day',\n 'good day hi',\n 'it is good day',\n 'hi hi hi hey',\n 'hey hello good',\n 'hello hi hello hi is',\n 'hi hello hi hey',\n 'hello hello hi',\n 'hi hi hi hey is',\n 'hey hello good',\n 'hello hi hello hi',\n 'hi hello hi hey',\n 'hello hello hi hi hi ',\n 'hi hi hi hey',\n 'hey hello is',\n 'hello hi hello hi hello',\n 'hi hello hi hey is',\n 'hello hello',\n 'hi hi hi hey is',\n 'hey hello',\n 'hello hi hello hi hi it',\n 'hi hello hi hey it',\n 'hello hello it',\n 'hi hi hi hey',\n 'hey hello',\n 'hello hi hello hi']"
     ]
    }
   ],
   "source": [
    "rdd.collect()"
   ]
  },
  {
   "cell_type": "code",
   "execution_count": 0,
   "metadata": {
    "application/vnd.databricks.v1+cell": {
     "cellMetadata": {
      "byteLimit": 2048000,
      "rowLimit": 10000
     },
     "inputWidgets": {},
     "nuid": "8c39f8cc-3280-43f2-a5de-72b4d187654b",
     "showTitle": true,
     "title": "Map each element to zero or more others"
    }
   },
   "outputs": [],
   "source": [
    "rdd2 = rdd.flatMap(lambda x : x.split(\" \"))"
   ]
  },
  {
   "cell_type": "code",
   "execution_count": 0,
   "metadata": {
    "application/vnd.databricks.v1+cell": {
     "cellMetadata": {
      "byteLimit": 2048000,
      "rowLimit": 10000
     },
     "inputWidgets": {},
     "nuid": "23cdc20e-d0cb-4edd-b436-b10d7c7797a5",
     "showTitle": true,
     "title": "Retrieve contents from RDD2"
    }
   },
   "outputs": [
    {
     "output_type": "stream",
     "name": "stdout",
     "output_type": "stream",
     "text": [
      "Out[9]: ['hi',\n 'hello',\n 'hi',\n 'hey',\n 'hello',\n 'hello',\n 'day',\n 'good',\n 'day',\n 'hi',\n 'it',\n 'is',\n 'good',\n 'day',\n 'hi',\n 'hi',\n 'hi',\n 'hey',\n 'hey',\n 'hello',\n 'good',\n 'hello',\n 'hi',\n 'hello',\n 'hi',\n 'is',\n 'hi',\n 'hello',\n 'hi',\n 'hey',\n 'hello',\n 'hello',\n 'hi',\n 'hi',\n 'hi',\n 'hi',\n 'hey',\n 'is',\n 'hey',\n 'hello',\n 'good',\n 'hello',\n 'hi',\n 'hello',\n 'hi',\n 'hi',\n 'hello',\n 'hi',\n 'hey',\n 'hello',\n 'hello',\n 'hi',\n 'hi',\n 'hi',\n '',\n 'hi',\n 'hi',\n 'hi',\n 'hey',\n 'hey',\n 'hello',\n 'is',\n 'hello',\n 'hi',\n 'hello',\n 'hi',\n 'hello',\n 'hi',\n 'hello',\n 'hi',\n 'hey',\n 'is',\n 'hello',\n 'hello',\n 'hi',\n 'hi',\n 'hi',\n 'hey',\n 'is',\n 'hey',\n 'hello',\n 'hello',\n 'hi',\n 'hello',\n 'hi',\n 'hi',\n 'it',\n 'hi',\n 'hello',\n 'hi',\n 'hey',\n 'it',\n 'hello',\n 'hello',\n 'it',\n 'hi',\n 'hi',\n 'hi',\n 'hey',\n 'hey',\n 'hello',\n 'hello',\n 'hi',\n 'hello',\n 'hi']"
     ]
    }
   ],
   "source": [
    "rdd2.collect()"
   ]
  },
  {
   "cell_type": "code",
   "execution_count": 0,
   "metadata": {
    "application/vnd.databricks.v1+cell": {
     "cellMetadata": {
      "byteLimit": 2048000,
      "rowLimit": 10000
     },
     "inputWidgets": {},
     "nuid": "63da448f-ee33-407d-b60e-c7cb4b531db0",
     "showTitle": true,
     "title": "Pass each element through a function"
    }
   },
   "outputs": [],
   "source": [
    "rdd3 = rdd2.map(lambda x : (x,1))"
   ]
  },
  {
   "cell_type": "code",
   "execution_count": 0,
   "metadata": {
    "application/vnd.databricks.v1+cell": {
     "cellMetadata": {
      "byteLimit": 2048000,
      "rowLimit": 10000
     },
     "inputWidgets": {},
     "nuid": "cd2b1481-7352-405d-881e-ca55b4cf76f6",
     "showTitle": true,
     "title": "Retrieve contents from RDD3"
    }
   },
   "outputs": [
    {
     "output_type": "stream",
     "name": "stdout",
     "output_type": "stream",
     "text": [
      "Out[11]: [('hi', 1),\n ('hello', 1),\n ('hi', 1),\n ('hey', 1),\n ('hello', 1),\n ('hello', 1),\n ('day', 1),\n ('good', 1),\n ('day', 1),\n ('hi', 1),\n ('it', 1),\n ('is', 1),\n ('good', 1),\n ('day', 1),\n ('hi', 1),\n ('hi', 1),\n ('hi', 1),\n ('hey', 1),\n ('hey', 1),\n ('hello', 1),\n ('good', 1),\n ('hello', 1),\n ('hi', 1),\n ('hello', 1),\n ('hi', 1),\n ('is', 1),\n ('hi', 1),\n ('hello', 1),\n ('hi', 1),\n ('hey', 1),\n ('hello', 1),\n ('hello', 1),\n ('hi', 1),\n ('hi', 1),\n ('hi', 1),\n ('hi', 1),\n ('hey', 1),\n ('is', 1),\n ('hey', 1),\n ('hello', 1),\n ('good', 1),\n ('hello', 1),\n ('hi', 1),\n ('hello', 1),\n ('hi', 1),\n ('hi', 1),\n ('hello', 1),\n ('hi', 1),\n ('hey', 1),\n ('hello', 1),\n ('hello', 1),\n ('hi', 1),\n ('hi', 1),\n ('hi', 1),\n ('', 1),\n ('hi', 1),\n ('hi', 1),\n ('hi', 1),\n ('hey', 1),\n ('hey', 1),\n ('hello', 1),\n ('is', 1),\n ('hello', 1),\n ('hi', 1),\n ('hello', 1),\n ('hi', 1),\n ('hello', 1),\n ('hi', 1),\n ('hello', 1),\n ('hi', 1),\n ('hey', 1),\n ('is', 1),\n ('hello', 1),\n ('hello', 1),\n ('hi', 1),\n ('hi', 1),\n ('hi', 1),\n ('hey', 1),\n ('is', 1),\n ('hey', 1),\n ('hello', 1),\n ('hello', 1),\n ('hi', 1),\n ('hello', 1),\n ('hi', 1),\n ('hi', 1),\n ('it', 1),\n ('hi', 1),\n ('hello', 1),\n ('hi', 1),\n ('hey', 1),\n ('it', 1),\n ('hello', 1),\n ('hello', 1),\n ('it', 1),\n ('hi', 1),\n ('hi', 1),\n ('hi', 1),\n ('hey', 1),\n ('hey', 1),\n ('hello', 1),\n ('hello', 1),\n ('hi', 1),\n ('hello', 1),\n ('hi', 1)]"
     ]
    }
   ],
   "source": [
    "rdd3.collect()"
   ]
  },
  {
   "cell_type": "code",
   "execution_count": 0,
   "metadata": {
    "application/vnd.databricks.v1+cell": {
     "cellMetadata": {
      "byteLimit": 2048000,
      "rowLimit": 10000
     },
     "inputWidgets": {},
     "nuid": "e058ead7-bdb3-46bf-85c1-39a4d72dd83b",
     "showTitle": true,
     "title": " Aggregate data corresponding to a key with the help of an associative reduce function"
    }
   },
   "outputs": [],
   "source": [
    "rdd4 = rdd3.reduceByKey(lambda x,y: x + y)"
   ]
  },
  {
   "cell_type": "code",
   "execution_count": 0,
   "metadata": {
    "application/vnd.databricks.v1+cell": {
     "cellMetadata": {
      "byteLimit": 2048000,
      "rowLimit": 10000
     },
     "inputWidgets": {},
     "nuid": "b5319a24-66df-4362-bd3b-0708cb519f7a",
     "showTitle": true,
     "title": "Retrieve contents from RDD4"
    }
   },
   "outputs": [
    {
     "output_type": "stream",
     "name": "stdout",
     "output_type": "stream",
     "text": [
      "Out[13]: [('good', 4),\n ('is', 6),\n ('', 1),\n ('hi', 41),\n ('hello', 31),\n ('hey', 15),\n ('day', 3),\n ('it', 4)]"
     ]
    }
   ],
   "source": [
    "rdd4.collect()"
   ]
  },
  {
   "cell_type": "code",
   "execution_count": 0,
   "metadata": {
    "application/vnd.databricks.v1+cell": {
     "cellMetadata": {
      "byteLimit": 2048000,
      "rowLimit": 10000
     },
     "inputWidgets": {},
     "nuid": "da04daf1-a2e2-4b2a-b9fc-053581b36a69",
     "showTitle": true,
     "title": "Write elements to a text file"
    }
   },
   "outputs": [],
   "source": [
    "rdd4.saveAsTextFile(\"/FileStore/tables/result.txt\")"
   ]
  }
 ],
 "metadata": {
  "application/vnd.databricks.v1+notebook": {
   "dashboards": [],
   "language": "python",
   "notebookMetadata": {
    "pythonIndentUnit": 4
   },
   "notebookName": "Apache Spark",
   "widgets": {}
  }
 },
 "nbformat": 4,
 "nbformat_minor": 0
}
